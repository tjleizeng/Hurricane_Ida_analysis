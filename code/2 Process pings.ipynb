{
 "cells": [
  {
   "cell_type": "markdown",
   "id": "a22b3dc1-455c-4a70-bddf-d7e69c71d8d5",
   "metadata": {},
   "source": [
    "# Setup"
   ]
  },
  {
   "cell_type": "code",
   "execution_count": 2,
   "id": "00cce21a-c37e-417a-bb60-26f32b6ca5ec",
   "metadata": {
    "scrolled": true,
    "tags": []
   },
   "outputs": [],
   "source": [
    "import numpy as np\n",
    "import pandas as pd\n",
    "import geopandas as gpd\n",
    "import matplotlib.pyplot as plt\n",
    "from types import SimpleNamespace\n",
    "from glob import glob\n",
    "import datetime as dt\n",
    "from tqdm import tqdm\n",
    "from datetime import datetime\n",
    "\n",
    "P = SimpleNamespace()\n",
    "P.data = \"../data\"\n",
    "CRS_DEG = 'EPSG:4326'\n",
    "CRS_M = 'EPSG:3857'"
   ]
  },
  {
   "cell_type": "markdown",
   "id": "8f345e36-86b8-409a-af7b-9d4ce27d28e0",
   "metadata": {},
   "source": [
    "# GPS data"
   ]
  },
  {
   "cell_type": "markdown",
   "id": "6e6bcf13-3dbe-4e64-9f17-48eb731c9a9a",
   "metadata": {},
   "source": [
    "## Collect user pings from raw pings"
   ]
  },
  {
   "cell_type": "raw",
   "id": "9d266cd3-2b44-4448-b6d6-10f3dc8db579",
   "metadata": {},
   "source": [
    "%%time\n",
    "# t = 14s\n",
    "df = mk.gps.get_user_pings(\n",
    "    SP, dt.date(2021, 8, 27), tz=-4,\n",
    "    inroot='/export/scratch/a/verma99/quadrant/Louisiana',\n",
    "    outroot=QUADRANT + 'Louisiana'\n",
    ").disp(0)"
   ]
  },
  {
   "cell_type": "markdown",
   "id": "55a7f2cd-0ded-4f53-9363-7b401483c15e",
   "metadata": {},
   "source": [
    "Total pings in the unfiltered Louisiana Quadrant data:"
   ]
  },
  {
   "cell_type": "raw",
   "id": "e93a36a8-cf78-4d52-9c1b-147b78c7b4e8",
   "metadata": {},
   "source": [
    "%%time\n",
    "# t = 5min 40s\n",
    "(SP.read_parquet(glob(QUADRANT + 'Louisiana/**/**/*'))\n",
    " .select(F.size(LAT).alias('n')).select(F.sum('n')).collect()[0][0])\n",
    "# >> 8,855,704,569 pings"
   ]
  },
  {
   "cell_type": "markdown",
   "id": "e0ccb4c9-7c97-460c-b43f-566be8a2e95c",
   "metadata": {},
   "source": [
    "Total unique users in the unfiltered Louisiana Quadrant data:"
   ]
  },
  {
   "cell_type": "raw",
   "id": "3c3215da-c853-4d82-860f-862804de58bb",
   "metadata": {},
   "source": [
    "%time SP.read_parquet(glob(QUADRANT + 'Louisiana/**/**/*')).groupby(UID).count().count() # t = 1min 15s\n",
    "# >> \"No. of unique users in Louisiana (unfiltered) = 6_896_008\""
   ]
  },
  {
   "cell_type": "raw",
   "id": "52a14a03-2bdc-425e-8d82-93eb371314ff",
   "metadata": {},
   "source": [
    "%%time\n",
    "# t = 35s\n",
    "users = pd.concat([SP.read_parquet(f).select(UID).toPandas()[UID]\n",
    "                   for f in tqdm(glob(IO.quad + 'Louisiana/**/**/*'))\n",
    "                  ]).drop_duplicates().reset_index(drop=True); users.size\n",
    "# >> 6,882,177"
   ]
  },
  {
   "cell_type": "markdown",
   "id": "019cb607-adee-491d-b81c-47d044e09b9d",
   "metadata": {},
   "source": [
    "Total pings in the study region (all-time):"
   ]
  },
  {
   "cell_type": "raw",
   "id": "57b56e16-b24f-4bb3-9b25-75afa539489e",
   "metadata": {},
   "source": [
    "%%time\n",
    "# t = 2min 30s\n",
    "(SP.read_parquet([f for f in glob(DATA + 'pings/Ida/*') if os.path.isdir(f)])\n",
    " .select(F.size(LAT).alias('n')).select(F.sum('n')).collect()[0][0])\n",
    "# >> 4,223,964,149 pings"
   ]
  },
  {
   "cell_type": "markdown",
   "id": "e84fd2e5-c24c-4cee-8984-a061e5655fad",
   "metadata": {},
   "source": [
    "Total unique users in the study region & period:"
   ]
  },
  {
   "cell_type": "raw",
   "id": "ca9cf45f-b83b-4ba7-950d-2fe7c715e8cd",
   "metadata": {},
   "source": [
    "%%time\n",
    "# t = 26s\n",
    "users = pd.concat([\n",
    "    SP.read_parquet(f).select(UID).toPandas()[UID]\n",
    "    for f in tqdm([f for f in glob(DATA + 'pings/Ida/*') if os.path.isdir(f)])\n",
    "    # for f in tqdm(glob(DATA + 'pings/Ida/*').filter(f => os.path.isdir(f)))\n",
    "]).drop_duplicates().reset_index(drop=True); users.size\n",
    "# >> 803,858"
   ]
  },
  {
   "cell_type": "markdown",
   "id": "4aba4a71-81e8-41b8-ae36-a3d61f9d5eee",
   "metadata": {},
   "source": [
    "## Extract HQ users"
   ]
  },
  {
   "cell_type": "code",
   "execution_count": 8,
   "id": "3990e474-fc0b-4ed2-9906-8cfd26c230bb",
   "metadata": {
    "tags": []
   },
   "outputs": [],
   "source": [
    "from pyspark.sql.functions import countDistinct, count\n",
    "from pyspark.sql.functions import lit\n",
    "\n",
    "def users_data_quality(rgn, date):\n",
    "    # read the cleaned pings data\n",
    "    path = str(QUADRANT) + '/'+ rgn.state + '/' + date.strftime('%Y/%m/%d')\n",
    "    df = SP.read_parquet(path)\n",
    "    # get time of day index (30 min bins)\n",
    "    df = df.selectExpr('uid', 'explode(ts)').withColumn(\"TD\", F.floor(F.col('col')/1800))\n",
    "    # get uid, number of 30 min bins\n",
    "    df = df.groupby('uid').agg(countDistinct('TD').alias('TD')).select('uid','TD').withColumn(\"DD\",lit(date))\n",
    "    return df"
   ]
  },
  {
   "cell_type": "code",
   "execution_count": null,
   "id": "87fc726f-836a-437e-934d-c57b92a04b4c",
   "metadata": {
    "tags": []
   },
   "outputs": [],
   "source": [
    "def users_data_quality_multi(rgn, dates: pd.DatetimeIndex):\n",
    "    print('Started:', dt.datetime.now().strftime('%b %-d, %-I:%-M:%-S %p'))\n",
    "    df = users_data_quality(rgn, dates[0])\n",
    "    dates = tqdm(dates[1:].date)\n",
    "    for date in dates:\n",
    "        dates.set_description(str(date))\n",
    "        df = df.union(users_data_quality(rgn, date))\n",
    "        \n",
    "    return df\n",
    "\n",
    "%time df_user = users_data_quality_multi(ida, pd.date_range('2021-08-01', '2021-11-30')) # t = 1h 40min"
   ]
  },
  {
   "cell_type": "code",
   "execution_count": 22,
   "id": "59d5a501-5687-4bdb-8a7f-9154c858c62e",
   "metadata": {
    "tags": []
   },
   "outputs": [
    {
     "name": "stderr",
     "output_type": "stream",
     "text": [
      "[Stage 487:=========================================>             (15 + 5) / 20]\r"
     ]
    },
    {
     "name": "stdout",
     "output_type": "stream",
     "text": [
      "23/04/18 13:57:57 WARN DAGScheduler: Broadcasting large task binary with size 2.5 MiB\n"
     ]
    },
    {
     "name": "stderr",
     "output_type": "stream",
     "text": [
      "                                                                                \r"
     ]
    }
   ],
   "source": [
    "# # Store the df_user here\n",
    "# outpath = U.mkdir(P.data + f'/users/{ida.name}/')\n",
    "# try:\n",
    "#     mk.spark.write(df_user, outpath, compress=True)\n",
    "# except Exception as e:\n",
    "#     print(date, e)"
   ]
  },
  {
   "cell_type": "code",
   "execution_count": 10,
   "id": "67546b7a-10f5-4eb7-9aca-1c133e921ce4",
   "metadata": {
    "tags": []
   },
   "outputs": [],
   "source": [
    "outpath = P.data + f'/users/{ida.name}/'\n",
    "df_user = SP.session.read.load(outpath,format=\"parquet\")"
   ]
  },
  {
   "cell_type": "code",
   "execution_count": 11,
   "id": "bac765d8-f2ad-4678-9d33-34d84253f453",
   "metadata": {
    "tags": []
   },
   "outputs": [
    {
     "name": "stderr",
     "output_type": "stream",
     "text": [
      "                                                                                \r"
     ]
    },
    {
     "data": {
      "text/plain": [
       "6892756"
      ]
     },
     "execution_count": 11,
     "metadata": {},
     "output_type": "execute_result"
    }
   ],
   "source": [
    "total_user = df_user.select(countDistinct('uid')).collect()[0][0]\n",
    "total_user"
   ]
  },
  {
   "cell_type": "code",
   "execution_count": 12,
   "id": "23e36175-8d8b-47fb-96ea-bdb9b187090f",
   "metadata": {
    "tags": []
   },
   "outputs": [
    {
     "name": "stderr",
     "output_type": "stream",
     "text": [
      "                                                                                \r"
     ]
    }
   ],
   "source": [
    "user_mat = np.zeros((8, 5))\n",
    "for i in range(8):\n",
    "    tmp = df_user.filter(df_user.TD>= i*4).groupby('uid').agg(count('TD').alias('days'))\n",
    "    for j in range(5):\n",
    "        user_mat[i,j] =  tmp.filter(tmp.days>=j*5).count()"
   ]
  },
  {
   "cell_type": "code",
   "execution_count": 13,
   "id": "e7e50513-4cfb-447f-81b9-5a7234720615",
   "metadata": {
    "tags": []
   },
   "outputs": [
    {
     "data": {
      "image/png": "[encoded data removed]",
      "text/plain": [
       "<Figure size 750x450 with 2 Axes>"
      ]
     },
     "metadata": {},
     "output_type": "display_data"
    }
   ],
   "source": [
    "ax = U.plot(size=(5, 3), dpi=150)\n",
    "ax = sns.heatmap(ax=ax, data=(user_mat/total_user*100).T, cmap='magma_r',\n",
    "                 cbar_kws=dict(label='% of devices', shrink=0.8),\n",
    "                 annot=True, fmt='.0f', annot_kws=dict(fontsize=8))\n",
    "ax = U.plot(ax, xlab='No. of 30 min bins', ylab='No. of days')\n",
    "ax.set_xticks(np.arange(0,8+1),np.arange(0,32+1,4))\n",
    "ax.set_yticks(np.arange(0,5+1),np.arange(0,25+1,5))\n",
    "cbar = ax.collections[0].colorbar\n",
    "cbar.formatter.set_useMathText(True)\n",
    "\n",
    "plt.tight_layout()\n",
    "plt.savefig('../new_fig/data_quality.pdf')\n",
    "plt.savefig('../new_fig/data_quality.png', dpi=300)"
   ]
  },
  {
   "cell_type": "code",
   "execution_count": 28,
   "id": "c99061f6-38b4-4f7f-b1c3-d30cc2cf1716",
   "metadata": {
    "tags": []
   },
   "outputs": [
    {
     "name": "stderr",
     "output_type": "stream",
     "text": [
      "[Stage 980:==========================================>            (13 + 4) / 17]\r"
     ]
    },
    {
     "name": "stdout",
     "output_type": "stream",
     "text": [
      "+--------------------+\n",
      "|                 uid|\n",
      "+--------------------+\n",
      "|-9220594764880258060|\n",
      "+--------------------+\n",
      "only showing top 1 row\n",
      "\n"
     ]
    },
    {
     "name": "stderr",
     "output_type": "stream",
     "text": [
      "                                                                                \r"
     ]
    }
   ],
   "source": [
    "# The critieria is for us to confidently identify home areas, will keep 10% of users\n",
    "i = 4\n",
    "j = 15\n",
    "\n",
    "tmp = df_user.filter(df_user.TD>= i).groupby('uid').agg(count('TD').alias('days'))\n",
    "hq_users = tmp.filter(tmp.days>=j).select('uid').disp()"
   ]
  },
  {
   "cell_type": "code",
   "execution_count": 29,
   "id": "6322057e-293e-4fac-9b26-d31770403d5b",
   "metadata": {
    "tags": []
   },
   "outputs": [
    {
     "name": "stderr",
     "output_type": "stream",
     "text": [
      "                                                                                \r"
     ]
    },
    {
     "data": {
      "text/plain": [
       "664895"
      ]
     },
     "execution_count": 29,
     "metadata": {},
     "output_type": "execute_result"
    }
   ],
   "source": [
    "hq_users.select(countDistinct('uid')).collect()[0][0]"
   ]
  },
  {
   "cell_type": "markdown",
   "id": "0adfe18b-1a31-4336-ba1a-4e483f3d355d",
   "metadata": {},
   "source": [
    "## Filter HQ records"
   ]
  },
  {
   "cell_type": "code",
   "execution_count": 32,
   "id": "45541d1b-eee1-403f-9daf-b9fe1c2d2571",
   "metadata": {
    "tags": []
   },
   "outputs": [],
   "source": [
    "from pyspark.sql.functions import col\n",
    "\n",
    "def filter_hq_pings(rgn, date, selected_users, max_error = 500):\n",
    "    # read the cleaned pings data\n",
    "    path = QUADRANT + rgn.state + '/' + date.strftime('%Y/%m/%d')\n",
    "    df = SP.read_parquet(path)\n",
    "    \n",
    "    total_pings=df.select(F.size(LON).alias('n')).agg(F.sum('n')).collect()[0][0]\n",
    "    # remove users who is not in hq users\n",
    "    df = df.join(selected_users, ['uid'], 'leftsemi')\n",
    "    \n",
    "    # zip info of each record\n",
    "    xyt_cols = [LON, LAT, TS]\n",
    "    df = df.select('uid', F.arrays_zip(*xyt_cols, ERR).alias('X'))\n",
    "    # filter pings within bounding box & remove erroneous pings (allow NaN)\n",
    "    # minx, miny, maxx, maxy = rgn.bbox\n",
    "    def filt(xyte):\n",
    "        return list(zip(*[p[:3] for p in xyte \n",
    "                          if (p[3] == np.nan or p[3] <= max_error)]))\n",
    "                          # and minx <= p[0] <= maxx and miny <= p[1] <= maxy]))\n",
    "    df = df.select(UID, F.udf(filt, T.array(T.array(T.float)))('X').alias('X'))\n",
    "    # remove users not having any ping filtered as above\n",
    "    df = df.filter(F.size('X') > 0)\n",
    "    # unzip the columns\n",
    "    df = df.select(UID, *[df.X[i].alias(x) for i, x in enumerate(xyt_cols)])\n",
    "    \n",
    "    new_pings = df.select(F.size(LON).alias('n')).agg(F.sum('n')).collect()[0][0]\n",
    "    \n",
    "    print('Keep {:.1f}% of pings'.format(new_pings/total_pings*100)) # t = 24s\n",
    "    \n",
    "    return df\n",
    "\n",
    "# %time p2 = filter_hq_pings(ida, dt.date(2021, 8, 15),hq_users).disp() # t = 11s"
   ]
  },
  {
   "cell_type": "code",
   "execution_count": 47,
   "id": "03784395-bfa5-4392-a168-14e010365bfd",
   "metadata": {
    "tags": []
   },
   "outputs": [
    {
     "name": "stdout",
     "output_type": "stream",
     "text": [
      "Started: Feb 20, 9:37:40 AM\n"
     ]
    },
    {
     "data": {
      "application/vnd.jupyter.widget-view+json": {
       "model_id": "d78d121bc15c48089ec41aef4f402e17",
       "version_major": 2,
       "version_minor": 0
      },
      "text/plain": [
       "  0%|          | 0/122 [00:00<?, ?it/s]"
      ]
     },
     "metadata": {},
     "output_type": "display_data"
    },
    {
     "name": "stderr",
     "output_type": "stream",
     "text": [
      "                                                                                \r"
     ]
    },
    {
     "name": "stdout",
     "output_type": "stream",
     "text": [
      "Keep 95.0% of pings\n"
     ]
    },
    {
     "name": "stderr",
     "output_type": "stream",
     "text": [
      "[Stage 19669:=================================================>   (37 + 3) / 40]\r"
     ]
    },
    {
     "name": "stdout",
     "output_type": "stream",
     "text": [
      "CPU times: user 218 ms, sys: 58.5 ms, total: 277 ms\n",
      "Wall time: 1min 44s\n"
     ]
    },
    {
     "name": "stderr",
     "output_type": "stream",
     "text": [
      "                                                                                \r"
     ]
    }
   ],
   "source": [
    "def filter_hq_pings_multi(rgn, dates: pd.DatetimeIndex, selected_users):\n",
    "    print('Started:', dt.datetime.now().strftime('%b %-d, %-I:%-M:%-S %p'))\n",
    "    dates = tqdm(dates.date)\n",
    "    for date in dates:\n",
    "        dates.set_description(str(date))\n",
    "        outpath = U.mkdir(P.data + f'pings/{rgn.name}/') + str(date)\n",
    "        if os.path.exists(outpath): continue\n",
    "        try:\n",
    "            df = filter_hq_pings(rgn, date, selected_users)\n",
    "            mk.spark.write(df, outpath, compress=True)\n",
    "        except Exception as e:\n",
    "            print(date, e)\n",
    "        \n",
    "%time filter_hq_pings_multi(ida, pd.date_range('2021-08-01', '2021-11-30'),hq_users) # t = 1h 40min"
   ]
  },
  {
   "cell_type": "code",
   "execution_count": 15,
   "id": "d3807843-7307-44d6-a0fe-11176d6daabe",
   "metadata": {
    "tags": []
   },
   "outputs": [
    {
     "name": "stderr",
     "output_type": "stream",
     "text": [
      "[Stage 3:======================================================>(513 + 4) / 517]\r"
     ]
    },
    {
     "name": "stdout",
     "output_type": "stream",
     "text": [
      "CPU times: user 105 ms, sys: 32.8 ms, total: 137 ms\n",
      "Wall time: 38.8 s\n"
     ]
    },
    {
     "name": "stderr",
     "output_type": "stream",
     "text": [
      "                                                                                \r"
     ]
    },
    {
     "data": {
      "text/plain": [
       "8216268289"
      ]
     },
     "execution_count": 15,
     "metadata": {},
     "output_type": "execute_result"
    }
   ],
   "source": [
    "%%time\n",
    "# t = 5min 40s\n",
    "(SP.read_parquet(glob(P.data + f'/pings/{ida.name}/*'))\n",
    " .select(F.size(LAT).alias('n')).select(F.sum('n')).collect()[0][0])\n",
    "# >> 8,855,704,569 pings"
   ]
  },
  {
   "cell_type": "markdown",
   "id": "d007a9cc",
   "metadata": {},
   "source": [
    "# Home detection"
   ]
  },
  {
   "cell_type": "code",
   "execution_count": 41,
   "id": "a34a4b0d",
   "metadata": {},
   "outputs": [],
   "source": [
    "from clustering import MeanShift\n",
    "import json\n",
    "import warnings\n",
    "from scipy import stats"
   ]
  },
  {
   "cell_type": "code",
   "execution_count": 42,
   "id": "3e411448",
   "metadata": {},
   "outputs": [],
   "source": [
    "pre_dates = pd.date_range('2021-08-01', '2021-08-21').date\n",
    "post_dates = pd.date_range('2021-08-22', '2021-11-30').date"
   ]
  },
  {
   "cell_type": "code",
   "execution_count": 43,
   "id": "abc733b8",
   "metadata": {},
   "outputs": [],
   "source": [
    "ms_radius = 200 # bandwidth radius for MeanShift clustering (in meters)\n",
    "pre_min_pings = 5 # min pings per user in the before (pre) period\n",
    "post_min_pings = 5 # \"\" in the after period per night"
   ]
  },
  {
   "cell_type": "code",
   "execution_count": 46,
   "id": "ea142f03",
   "metadata": {},
   "outputs": [],
   "source": [
    "# MeanShift clustering parameters\n",
    "ms_params = {'bin_seeding': True, 'min_bin_freq': 5, 'max_iter': 30, 'cluster_all': False}"
   ]
  },
  {
   "cell_type": "code",
   "execution_count": null,
   "id": "244f52de",
   "metadata": {},
   "outputs": [],
   "source": [
    "UID, LON, LAT, TS = 'uid', 'lon', 'lat', 'ts'\n",
    "\n",
    "def filt(ts, start_hour, end_hour, kind='home'):\n",
    "    if kind == 'home':\n",
    "        return (ts >= end_hour * 3600) | (ts < start_hour * 3600)  # the last two conditions filter null records\n",
    "    else:\n",
    "        return (ts < end_hour * 3600) & (ts >= start_hour * 3600)  # the last two conditions filter null records\n",
    "\n",
    "def new_bins(row):\n",
    "    res = []\n",
    "    x_sum = 0\n",
    "    y_sum = 0\n",
    "    n = 0\n",
    "    i = -1\n",
    "    for p in zip(row['lon'], row['lat'], row['flag']):\n",
    "        if (p[0] is not None) and (p[1] is not None):\n",
    "            if i != p[2]:\n",
    "                if n > 0:\n",
    "                    # var(lon) and var(lat)\n",
    "                    res.append([x_sum/n, y_sum/n])\n",
    "                i = p[2]\n",
    "                x_sum = p[0]\n",
    "                y_sum = p[1]\n",
    "                n = 1 \n",
    "            else:\n",
    "                x_sum += p[0]\n",
    "                y_sum += p[1]\n",
    "                n+=1\n",
    "            \n",
    "    if n>0:\n",
    "        res.append([x_sum/n, y_sum/n])\n",
    "    return list(zip(*res))\n",
    "\n",
    "\n",
    "def extract_bins(selected_users, dates: pd.DatetimeIndex,  start_hour=7, end_hour=21, kind = 'home'):\n",
    "    path =  P.data + '/pings/Ida/' + dates[0].strftime('%Y-%m-%d')\n",
    "    res = pd.read_parquet(path)\n",
    "    res = pd.merge(selected_users, res, on='uid')\n",
    "\n",
    "    # filter the pings, translate this to dataframe version\n",
    "    res['keep_index'] = res[TS].apply(lambda x: filt(x, start_hour, end_hour, kind))\n",
    "\n",
    "    res[LON] = res.apply(lambda x: x[LON][x['keep_index']], axis=1)\n",
    "    res[LAT] = res.apply(lambda x: x[LAT][x['keep_index']], axis=1)\n",
    "    \n",
    "    # create the means\n",
    "    res['flag'] = res[TS].apply(lambda x: (x//1800).astype(int))\n",
    "    res['lon', 'lat'] = res.apply(lambda x: new_bins(x), axis=1)\n",
    "    \n",
    "    return res\n",
    "\n",
    "def meanshift_top(X, Y, bw: float, kwargs: str):\n",
    "    try:\n",
    "        model = MeanShift(bandwidth=bw, **json.loads(kwargs))\n",
    "        with warnings.catch_warnings():\n",
    "            warnings.simplefilter('ignore')\n",
    "            model.fit(np.vstack([X, Y]).T)\n",
    "        return model.cluster_center # model.cluster_centers_[0].tolist() # use this when using vanilla meanshift\n",
    "    except ValueError:\n",
    "        return [np.nan, np.nan]\n",
    "    \n",
    "def dist_m2deg(dist, lat): # dist in meters\n",
    "    return dist / (111.32 * 1000 * np.cos(lat * np.pi / 180))\n",
    "\n",
    "\n",
    "def get_home_work_meanshift(df, LON='lon', LAT='lat', radius=ms_radius,\n",
    "                            params=ms_params, n_jobs=40):\n",
    "    res = []\n",
    "    for _, r in tqdm(df.iterrows(), total=len(df)):\n",
    "        x, y = r[LON], r[LAT]\n",
    "        model = MeanShift(bandwidth=dist_m2deg(radius, np.mean(y) if y is not None else 0), **params)\n",
    "        try:\n",
    "            with warnings.catch_warnings():\n",
    "                warnings.simplefilter('ignore')\n",
    "                model.fit(np.vstack([x, y]).T)\n",
    "            cx, cy = model.cluster_center#[0].tolist()\n",
    "            res.append({UID: r[UID], LON: cx, LAT: cy, 'used_mean': False})\n",
    "        except ValueError:\n",
    "            cx, cy = x.mean(), y.mean()\n",
    "            res.append({UID: r[UID], LON: cx, LAT: cy, 'used_mean': True})\n",
    "    return pd.DataFrame(res).dropna()"
   ]
  },
  {
   "cell_type": "code",
   "execution_count": 48,
   "id": "f8d31b11",
   "metadata": {},
   "outputs": [],
   "source": [
    "selected_users = pd.read_parquet(P.data + \"/selected_users.parquet\")"
   ]
  },
  {
   "cell_type": "code",
   "execution_count": 50,
   "id": "095bcc2f",
   "metadata": {},
   "outputs": [],
   "source": [
    "import os"
   ]
  },
  {
   "cell_type": "code",
   "execution_count": 52,
   "id": "49ee97d5",
   "metadata": {},
   "outputs": [
    {
     "name": "stderr",
     "output_type": "stream",
     "text": [
      "100%|██████████| 209019/209019 [07:16<00:00, 478.78it/s]\n",
      "100%|██████████| 223774/223774 [08:46<00:00, 424.68it/s]\n",
      "100%|██████████| 173194/173194 [05:33<00:00, 519.08it/s]33s/it]\n",
      "100%|██████████| 220437/220437 [09:11<00:00, 399.50it/s]\n",
      "100%|██████████| 191749/191749 [06:18<00:00, 506.14it/s]65s/it]\n",
      "100%|██████████| 225082/225082 [09:21<00:00, 400.94it/s]\n",
      "100%|██████████| 216158/216158 [07:44<00:00, 465.80it/s]04s/it]\n",
      "100%|██████████| 234596/234596 [09:52<00:00, 395.73it/s]\n",
      "100%|██████████| 182947/182947 [05:55<00:00, 515.34it/s]13.62s/it]\n",
      "100%|██████████| 227013/227013 [10:35<00:00, 357.14it/s]\n",
      "100%|██████████| 151493/151493 [07:13<00:00, 349.56it/s]17.18s/it]\n",
      "100%|██████████| 223937/223937 [14:37<00:00, 255.34it/s]\n",
      "100%|██████████| 206443/206443 [10:41<00:00, 321.96it/s]44.07s/it]\n",
      "100%|██████████| 234237/234237 [14:43<00:00, 265.07it/s]\n",
      "100%|██████████| 224528/224528 [12:53<00:00, 290.32it/s]92.89s/it]\n",
      "100%|██████████| 240434/240434 [15:40<00:00, 255.69it/s]\n",
      "100%|██████████| 195420/195420 [09:53<00:00, 329.01it/s]46.45s/it]\n",
      "100%|██████████| 233760/233760 [15:10<00:00, 256.60it/s]\n",
      "100%|██████████| 170934/170934 [08:14<00:00, 345.85it/s]87.81s/it]\n",
      "100%|██████████| 231817/231817 [12:57<00:00, 298.29it/s]\n",
      "100%|██████████| 156504/156504 [07:36<00:00, 342.48it/s]443.12s/it]\n",
      "100%|██████████| 236856/236856 [14:37<00:00, 269.92it/s]\n",
      "100%|██████████| 101904/101904 [04:49<00:00, 352.07it/s]429.62s/it]\n",
      "100%|██████████| 142308/142308 [07:50<00:00, 302.30it/s]\n",
      "100%|██████████| 169582/169582 [08:12<00:00, 344.20it/s]238.90s/it]\n",
      "100%|██████████| 241772/241772 [15:30<00:00, 259.94it/s]\n",
      "100%|██████████| 157791/157791 [07:31<00:00, 349.84it/s]319.26s/it]\n",
      "100%|██████████| 241915/241915 [15:30<00:00, 260.00it/s]\n",
      "100%|██████████| 124841/124841 [05:53<00:00, 353.09it/s]359.37s/it]\n",
      "100%|██████████| 158652/158652 [08:35<00:00, 308.03it/s]\n",
      "100%|██████████| 161387/161387 [07:49<00:00, 343.59it/s]224.07s/it]\n",
      "100%|██████████| 244999/244999 [15:55<00:00, 256.36it/s]\n",
      "100%|██████████| 186539/186539 [09:17<00:00, 334.75it/s]305.61s/it]\n",
      "100%|██████████| 249104/249104 [16:43<00:00, 248.33it/s]\n",
      "100%|██████████| 178473/178473 [08:45<00:00, 339.31it/s]408.19s/it]\n",
      "100%|██████████| 242037/242037 [15:23<00:00, 261.95it/s]\n",
      "100%|██████████| 177545/177545 [08:34<00:00, 344.81it/s]444.22s/it]\n",
      "100%|██████████| 252065/252065 [17:09<00:00, 244.88it/s]\n",
      "100%|██████████| 182854/182854 [09:05<00:00, 335.22it/s]496.41s/it]\n",
      "100%|██████████| 252905/252905 [16:57<00:00, 248.48it/s]\n",
      "100%|██████████| 158281/158281 [07:42<00:00, 342.22it/s]539.12s/it]\n",
      "100%|██████████| 250453/250453 [16:55<00:00, 246.73it/s]\n",
      "100%|██████████| 172319/172319 [08:25<00:00, 340.98it/s]548.84s/it]\n",
      "100%|██████████| 253612/253612 [17:27<00:00, 242.00it/s]\n",
      "100%|██████████| 159165/159165 [07:46<00:00, 341.01it/s]572.79s/it]\n",
      "100%|██████████| 252013/252013 [17:26<00:00, 240.91it/s]\n",
      "100%|██████████| 99571/99571 [04:32<00:00, 364.88it/s] 1576.71s/it]\n",
      "100%|██████████| 139091/139091 [06:55<00:00, 334.63it/s]\n",
      "100%|██████████| 100614/100614 [04:33<00:00, 368.07it/s]320.32s/it]\n",
      "100%|██████████| 141514/141514 [07:36<00:00, 309.76it/s]\n",
      "100%|██████████| 99946/99946 [04:27<00:00, 374.05it/s] 1155.88s/it]\n",
      "100%|██████████| 137297/137297 [06:34<00:00, 348.37it/s]\n",
      "100%|██████████| 103478/103478 [04:39<00:00, 370.76it/s]019.20s/it]\n",
      "100%|██████████| 145304/145304 [07:39<00:00, 316.26it/s]\n",
      "100%|██████████| 100899/100899 [04:37<00:00, 362.95it/s]45.55s/it] \n",
      "100%|██████████| 135024/135024 [07:03<00:00, 318.67it/s]\n",
      "100%|██████████| 81595/81595 [03:46<00:00, 360.71it/s] 882.52s/it]\n",
      "100%|██████████| 128209/128209 [06:33<00:00, 326.19it/s]\n",
      "100%|██████████| 54597/54597 [02:29<00:00, 365.32it/s] 814.44s/it]\n",
      "100%|██████████| 74318/74318 [03:54<00:00, 316.34it/s]\n",
      "100%|██████████| 99015/99015 [04:37<00:00, 356.51it/s], 692.24s/it]\n",
      "100%|██████████| 118240/118240 [06:44<00:00, 292.46it/s]\n",
      "100%|██████████| 116222/116222 [05:37<00:00, 344.14it/s]699.11s/it]\n",
      "100%|██████████| 136431/136431 [07:36<00:00, 299.00it/s]\n",
      "100%|██████████| 101400/101400 [04:57<00:00, 341.04it/s]738.89s/it]\n",
      "100%|██████████| 131834/131834 [07:16<00:00, 301.70it/s]\n",
      "100%|██████████| 81291/81291 [03:52<00:00, 349.22it/s], 748.14s/it]\n",
      "100%|██████████| 120679/120679 [06:43<00:00, 299.04it/s]\n",
      "100%|██████████| 121070/121070 [05:57<00:00, 338.27it/s]724.04s/it]\n",
      "100%|██████████| 152954/152954 [08:52<00:00, 287.03it/s]\n",
      "100%|██████████| 132639/132639 [06:46<00:00, 326.55it/s]786.57s/it]\n",
      "100%|██████████| 149368/149368 [08:44<00:00, 284.67it/s]\n",
      "100%|██████████| 103450/103450 [05:11<00:00, 332.50it/s]845.62s/it]\n",
      "100%|██████████| 148822/148822 [08:45<00:00, 283.45it/s]\n",
      "100%|██████████| 103086/103086 [05:03<00:00, 339.96it/s]857.31s/it]\n",
      "100%|██████████| 157796/157796 [09:30<00:00, 276.38it/s]\n",
      "100%|██████████| 99500/99500 [04:54<00:00, 337.50it/s], 877.07s/it]\n",
      "100%|██████████| 164060/164060 [10:02<00:00, 272.46it/s]\n",
      "100%|██████████| 77759/77759 [03:41<00:00, 350.79it/s], 898.60s/it]\n",
      "100%|██████████| 108148/108148 [05:37<00:00, 320.39it/s]\n",
      "100%|██████████| 77404/77404 [03:41<00:00, 349.63it/s], 804.88s/it]\n",
      "100%|██████████| 107215/107215 [05:35<00:00, 319.39it/s]\n",
      "100%|██████████| 120948/120948 [06:02<00:00, 333.84it/s]738.75s/it]\n",
      "100%|██████████| 170424/170424 [10:49<00:00, 262.35it/s]\n",
      "100%|██████████| 123207/123207 [06:16<00:00, 326.90it/s]835.22s/it]\n",
      "100%|██████████| 179110/179110 [11:08<00:00, 267.89it/s]\n",
      "100%|██████████| 110546/110546 [05:27<00:00, 337.26it/s]913.24s/it]\n",
      "100%|██████████| 136663/136663 [07:51<00:00, 290.10it/s]\n",
      "100%|██████████| 122390/122390 [06:04<00:00, 336.22it/s]892.31s/it]\n",
      "100%|██████████| 182627/182627 [11:45<00:00, 258.93it/s]\n",
      "100%|██████████| 141853/141853 [07:26<00:00, 317.65it/s]963.71s/it]\n",
      "100%|██████████| 185031/185031 [12:06<00:00, 254.80it/s]\n",
      "100%|██████████| 122838/122838 [06:23<00:00, 319.95it/s]1046.19s/it]\n",
      "100%|██████████| 183885/183885 [12:16<00:00, 249.58it/s]\n",
      "100%|██████████| 85650/85650 [04:06<00:00, 347.47it/s], 1084.78s/it]\n",
      "100%|██████████| 119518/119518 [06:06<00:00, 326.51it/s]\n",
      "100%|██████████| 130614/130614 [06:29<00:00, 335.33it/s]952.15s/it] \n",
      "100%|██████████| 188954/188954 [12:12<00:00, 257.91it/s]\n",
      "100%|██████████| 120498/120498 [06:11<00:00, 324.67it/s]1019.34s/it]\n",
      "100%|██████████| 188746/188746 [12:41<00:00, 247.71it/s]\n",
      "100%|██████████| 103220/103220 [05:01<00:00, 342.30it/s]1069.87s/it]\n",
      "100%|██████████| 126471/126471 [06:49<00:00, 308.59it/s]\n",
      "100%|██████████| 98922/98922 [04:52<00:00, 338.14it/s], 974.49s/it] \n",
      "100%|██████████| 137432/137432 [07:39<00:00, 299.28it/s]\n",
      "100%|██████████| 85224/85224 [03:59<00:00, 355.36it/s], 920.65s/it]\n",
      "100%|██████████| 115710/115710 [06:03<00:00, 318.01it/s]\n",
      "100%|██████████| 84823/84823 [03:58<00:00, 355.43it/s], 836.09s/it]\n",
      "100%|██████████| 114742/114742 [06:03<00:00, 315.25it/s]\n",
      "100%|██████████| 85764/85764 [04:04<00:00, 350.58it/s], 776.65s/it]\n",
      "100%|██████████| 113838/113838 [06:07<00:00, 309.61it/s]\n",
      "100%|██████████| 81943/81943 [03:52<00:00, 352.35it/s], 738.07s/it]\n",
      "100%|██████████| 113038/113038 [05:57<00:00, 316.00it/s]\n",
      "100%|██████████| 82878/82878 [03:55<00:00, 351.46it/s], 702.45s/it]\n",
      "100%|██████████| 116311/116311 [06:08<00:00, 315.89it/s]\n",
      "100%|██████████| 85485/85485 [04:02<00:00, 352.52it/s], 681.93s/it]\n",
      "100%|██████████| 117055/117055 [06:05<00:00, 320.18it/s]\n",
      "100%|██████████| 85406/85406 [04:01<00:00, 354.03it/s], 668.67s/it]\n",
      "100%|██████████| 120736/120736 [06:20<00:00, 317.28it/s]\n",
      "100%|██████████| 86584/86584 [04:11<00:00, 343.69it/s], 663.69s/it]\n",
      "100%|██████████| 122002/122002 [06:25<00:00, 316.79it/s]\n",
      "100%|██████████| 86146/86146 [04:10<00:00, 343.57it/s], 664.99s/it]\n",
      "100%|██████████| 121137/121137 [06:23<00:00, 315.61it/s]\n",
      "100%|██████████| 84489/84489 [03:55<00:00, 358.80it/s], 667.42s/it]\n",
      "100%|██████████| 117594/117594 [06:19<00:00, 309.85it/s]\n",
      "100%|██████████| 95508/95508 [04:39<00:00, 341.22it/s], 662.41s/it]\n",
      "100%|██████████| 120765/120765 [06:21<00:00, 316.53it/s]\n",
      "100%|██████████| 112183/112183 [05:40<00:00, 329.03it/s]673.47s/it]\n",
      "100%|██████████| 133726/133726 [07:05<00:00, 314.14it/s]\n",
      "100%|██████████| 99146/99146 [04:59<00:00, 331.42it/s], 712.36s/it]\n",
      "100%|██████████| 139810/139810 [08:10<00:00, 285.10it/s]\n",
      "100%|██████████| 82304/82304 [03:58<00:00, 345.25it/s], 747.17s/it]\n",
      "100%|██████████| 109598/109598 [05:50<00:00, 312.26it/s]\n",
      "100%|██████████| 81972/81972 [03:59<00:00, 342.89it/s], 708.42s/it]\n",
      "100%|██████████| 109634/109634 [05:56<00:00, 307.49it/s]\n",
      "100%|██████████| 122114/122114 [06:13<00:00, 327.10it/s]683.48s/it]\n",
      "100%|██████████| 159319/159319 [10:09<00:00, 261.46it/s]\n",
      "100%|██████████| 121097/121097 [06:27<00:00, 312.47it/s]787.63s/it]\n",
      "100%|██████████| 161471/161471 [10:22<00:00, 259.23it/s]\n",
      "100%|██████████| 107951/107951 [05:34<00:00, 322.32it/s]871.41s/it]\n",
      "100%|██████████| 140610/140610 [08:39<00:00, 270.71it/s]\n",
      "100%|██████████| 108668/108668 [05:33<00:00, 325.64it/s]880.43s/it]\n",
      "100%|██████████| 164280/164280 [10:51<00:00, 252.21it/s]\n",
      "100%|██████████| 104839/104839 [04:55<00:00, 354.53it/s]927.17s/it]\n",
      "100%|██████████| 172694/172694 [11:52<00:00, 242.23it/s]\n",
      "100%|██████████| 117874/117874 [05:44<00:00, 342.22it/s]966.65s/it]\n",
      "100%|██████████| 141324/141324 [07:49<00:00, 300.76it/s]\n",
      "100%|██████████| 120955/120955 [06:30<00:00, 309.82it/s]932.50s/it]\n",
      "100%|██████████| 172570/172570 [12:33<00:00, 228.99it/s]\n",
      "100%|██████████| 107372/107372 [05:36<00:00, 318.92it/s]1012.83s/it]\n",
      "100%|██████████| 166706/166706 [12:03<00:00, 230.37it/s]\n",
      "100%|██████████| 111599/111599 [06:18<00:00, 294.70it/s]1045.77s/it]\n",
      "100%|██████████| 165543/165543 [12:13<00:00, 225.63it/s]\n",
      "100%|██████████| 117825/117825 [06:51<00:00, 286.41it/s]1085.37s/it]\n",
      "100%|██████████| 134938/134938 [11:51<00:00, 189.79it/s]\n",
      "100%|██████████| 117095/117095 [06:24<00:00, 304.19it/s]1116.83s/it]\n",
      "100%|██████████| 156842/156842 [12:18<00:00, 212.34it/s]\n",
      "100%|██████████| 99575/99575 [05:19<00:00, 311.66it/s], 1139.25s/it]\n",
      "100%|██████████| 151414/151414 [11:53<00:00, 212.08it/s]\n",
      "100%|██████████| 115574/115574 [06:26<00:00, 299.25it/s]1125.99s/it]\n",
      "100%|██████████| 166872/166872 [11:56<00:00, 232.87it/s]\n",
      "100%|██████████| 132578/132578 [05:09<00:00, 428.32it/s]1136.95s/it]\n",
      "100%|██████████| 167031/167031 [08:38<00:00, 322.43it/s]\n",
      "100%|██████████| 133255/133255 [05:39<00:00, 392.11it/s]1054.22s/it]\n",
      "100%|██████████| 170799/170799 [09:23<00:00, 303.23it/s]\n",
      "100%|██████████| 118574/118574 [04:17<00:00, 460.11it/s]1019.47s/it]\n",
      "100%|██████████| 163853/163853 [09:00<00:00, 303.27it/s]\n",
      "100%|██████████| 128896/128896 [04:43<00:00, 454.99it/s]962.71s/it] \n",
      "100%|██████████| 183532/183532 [09:52<00:00, 309.98it/s]\n",
      "100%|██████████| 143530/143530 [05:42<00:00, 418.69it/s]46.98s/it] \n",
      "100%|██████████| 178097/178097 [15:49<00:00, 187.48it/s]\n",
      "100%|██████████| 143647/143647 [08:55<00:00, 268.03it/s]1061.64s/it]\n",
      "100%|██████████| 178080/178080 [16:36<00:00, 178.73it/s]\n",
      "100%|██████████| 133097/133097 [07:52<00:00, 281.61it/s]1228.14s/it]\n",
      "100%|██████████| 179242/179242 [14:40<00:00, 203.51it/s]\n",
      "100%|██████████| 101882/101882 [03:50<00:00, 441.89it/s]1290.73s/it]\n",
      "100%|██████████| 190759/190759 [11:15<00:00, 282.25it/s]\n",
      "100%|██████████| 131319/131319 [04:54<00:00, 445.59it/s]1185.80s/it]\n",
      "100%|██████████| 175591/175591 [09:49<00:00, 297.87it/s]\n",
      "100%|██████████| 151364/151364 [06:17<00:00, 400.44it/s]1104.85s/it]\n",
      "100%|██████████| 188431/188431 [10:14<00:00, 306.65it/s]\n",
      "100%|██████████| 142376/142376 [05:47<00:00, 410.05it/s]082.54s/it] \n",
      "100%|██████████| 186838/186838 [16:24<00:00, 189.80it/s]\n",
      "100%|██████████| 121694/121694 [06:49<00:00, 297.50it/s]1168.36s/it]\n",
      "100%|██████████| 195379/195379 [18:31<00:00, 175.85it/s]\n",
      "100%|██████████| 142432/142432 [08:05<00:00, 293.57it/s]1299.37s/it]\n",
      "100%|██████████| 190248/190248 [16:07<00:00, 196.71it/s]\n",
      "100%|██████████| 157616/157616 [09:33<00:00, 274.83it/s]1366.85s/it]\n",
      "100%|██████████| 193331/193331 [16:11<00:00, 199.10it/s]\n",
      "100%|██████████| 150563/150563 [08:47<00:00, 285.19it/s]1443.62s/it]\n",
      "100%|██████████| 190936/190936 [16:35<00:00, 191.81it/s]\n",
      "100%|██████████| 134633/134633 [07:31<00:00, 298.50it/s]1490.43s/it]\n",
      "100%|██████████| 200344/200344 [17:57<00:00, 185.96it/s]\n",
      "100%|██████████| 150596/150596 [08:24<00:00, 298.51it/s]1524.89s/it]\n",
      "100%|██████████| 195584/195584 [16:56<00:00, 192.41it/s]\n",
      "100%|██████████| 162919/162919 [09:37<00:00, 282.29it/s]1546.37s/it]\n",
      "100%|██████████| 196910/196910 [16:49<00:00, 195.00it/s]\n",
      "100%|██████████| 156971/156971 [09:07<00:00, 286.92it/s]1581.40s/it]\n",
      "100%|██████████| 195452/195452 [16:57<00:00, 192.07it/s]\n",
      "100%|██████████| 147621/147621 [08:26<00:00, 291.24it/s]1598.46s/it]\n",
      "100%|██████████| 201885/201885 [18:02<00:00, 186.46it/s]\n",
      "100%|██████████| 157767/157767 [09:00<00:00, 291.79it/s]1619.01s/it]\n",
      "100%|██████████| 196693/196693 [17:12<00:00, 190.53it/s]\n",
      "100%|██████████| 163882/163882 [09:38<00:00, 283.16it/s]1627.21s/it]\n",
      "100%|██████████| 200240/200240 [17:16<00:00, 193.27it/s]\n",
      "100%|██████████| 159262/159262 [09:33<00:00, 277.84it/s]1646.62s/it]\n",
      "100%|██████████| 199393/199393 [18:08<00:00, 183.10it/s]\n",
      "100%|██████████| 153757/153757 [08:54<00:00, 287.64it/s]1676.59s/it]\n",
      "100%|██████████| 203617/203617 [17:58<00:00, 188.88it/s]\n",
      "100%|██████████| 163598/163598 [09:19<00:00, 292.55it/s]1684.04s/it]\n",
      "100%|██████████| 201755/201755 [17:10<00:00, 195.71it/s]\n",
      "100%|██████████| 167822/167822 [10:13<00:00, 273.38it/s]1679.27s/it]\n",
      "100%|██████████| 203470/203470 [19:27<00:00, 174.24it/s]\n",
      "100%|██████████| 163565/163565 [09:34<00:00, 284.87it/s]1733.25s/it]\n",
      "100%|██████████| 200866/200866 [17:23<00:00, 192.50it/s]\n",
      "100%|██████████| 159105/159105 [09:08<00:00, 290.26it/s]1720.77s/it]\n",
      "100%|██████████| 206962/206962 [17:52<00:00, 192.99it/s]\n",
      "100%|██████████| 165608/165608 [09:40<00:00, 285.28it/s]1717.08s/it]\n",
      "100%|██████████| 203515/203515 [17:23<00:00, 195.03it/s]\n",
      "100%|██████████| 145563/145563 [07:55<00:00, 306.05it/s]1711.67s/it]\n",
      "100%|██████████| 201692/201692 [17:13<00:00, 195.14it/s]\n",
      "100%|██████████| 137580/137580 [06:58<00:00, 328.37it/s]1672.06s/it]\n",
      "100%|██████████| 204627/204627 [19:15<00:00, 177.16it/s]\n",
      "100%|██████████| 161846/161846 [09:14<00:00, 292.14it/s]1669.02s/it]\n",
      "100%|██████████| 208367/208367 [17:53<00:00, 194.12it/s]\n",
      "100%|██████████| 168312/168312 [09:23<00:00, 298.63it/s]1683.67s/it]\n",
      "100%|██████████| 206458/206458 [17:58<00:00, 191.48it/s]\n",
      "100%|██████████| 151713/151713 [07:38<00:00, 330.99it/s]1697.56s/it]\n",
      "100%|██████████| 203087/203087 [15:41<00:00, 215.82it/s]\n",
      "100%|██████████| 143730/143730 [07:21<00:00, 325.21it/s]1630.60s/it]\n",
      "100%|██████████| 205871/205871 [15:56<00:00, 215.21it/s]\n",
      "100%|██████████| 163932/163932 [09:22<00:00, 291.69it/s]1580.86s/it]\n",
      "100%|██████████| 210086/210086 [18:41<00:00, 187.37it/s]\n",
      "100%|██████████| 170391/170391 [09:33<00:00, 296.87it/s]1635.02s/it]\n",
      "100%|██████████| 206426/206426 [17:38<00:00, 195.00it/s]\n",
      "100%|██████████| 154548/154548 [08:12<00:00, 313.63it/s]1661.05s/it]\n",
      "100%|██████████| 202848/202848 [16:13<00:00, 208.27it/s]\n",
      "100%|██████████| 147232/147232 [07:33<00:00, 324.31it/s]1626.96s/it]\n",
      "100%|██████████| 206810/206810 [18:16<00:00, 188.63it/s]\n",
      "100%|██████████| 165448/165448 [09:13<00:00, 298.97it/s]1625.91s/it]\n",
      "100%|██████████| 209285/209285 [17:41<00:00, 197.15it/s]\n",
      "100%|██████████| 171392/171392 [09:37<00:00, 296.64it/s]45.10s/it]  \n",
      "100%|██████████| 207145/207145 [18:16<00:00, 188.90it/s]\n",
      "100%|██████████| 132107/132107 [06:30<00:00, 338.37it/s]80.77s/it]\n",
      "100%|██████████| 200846/200846 [15:18<00:00, 218.75it/s]\n",
      "2021-11-30: 100%|██████████| 122/122 [39:51:55<00:00, 1176.36s/it]"
     ]
    },
    {
     "name": "stdout",
     "output_type": "stream",
     "text": [
      "CPU times: total: 4d 13h 33min 51s\n",
      "Wall time: 1d 15h 51min 55s\n"
     ]
    },
    {
     "name": "stderr",
     "output_type": "stream",
     "text": [
      "\n"
     ]
    }
   ],
   "source": [
    "%%time\n",
    "# a lot of time due to randomly getting stuck on some dates\n",
    "# post_dates\n",
    "dates = tqdm(pd.date_range('2021-08-01', '2021-11-30').date)\n",
    "for d in dates:\n",
    "    dates.set_description(str(d))\n",
    "    try:\n",
    "        outpath = P.data + f'/post_locs/Ida/' + str(d) + '.parquet'\n",
    "        if os.path.exists(outpath): continue\n",
    "        df_night = extract_bins(selected_users, [d], 7, 21, 'home')\n",
    "        df_day = extract_bins(selected_users,[d], 7, 21, 'work')\n",
    "        df_night.dropna(inplace = True)\n",
    "        df_day.dropna(inplace = True)\n",
    "\n",
    "        # drop empty rows\n",
    "        df_night = df_night[df_night['lon'].apply(len) > 0]\n",
    "        df_day = df_day[df_day['lon'].apply(len) > 0]\n",
    "        \n",
    "        df_night = get_home_work_meanshift(df_night, n_jobs=16)\n",
    "        df_day = get_home_work_meanshift(df_day, n_jobs=16)\n",
    "        df_night_day = pd.merge(left=df_night, right=df_day, on='uid', how = 'outer')\n",
    "        df_night_day.to_parquet(outpath)\n",
    "    except Exception as e:\n",
    "        print(d, e)"
   ]
  },
  {
   "cell_type": "markdown",
   "id": "0d847e35",
   "metadata": {},
   "source": [
    "# Disp status"
   ]
  },
  {
   "cell_type": "code",
   "execution_count": 86,
   "id": "ae3c3a30",
   "metadata": {},
   "outputs": [
    {
     "data": {
      "text/plain": [
       "297082"
      ]
     },
     "execution_count": 86,
     "metadata": {},
     "output_type": "execute_result"
    }
   ],
   "source": [
    "len(selected_users)"
   ]
  },
  {
   "cell_type": "code",
   "execution_count": 7,
   "id": "24a484f6",
   "metadata": {},
   "outputs": [],
   "source": [
    "import os\n",
    "from haversine import haversine"
   ]
  },
  {
   "cell_type": "code",
   "execution_count": 8,
   "id": "aca6066a",
   "metadata": {},
   "outputs": [],
   "source": [
    "pre_homes = pd.read_parquet(P.data + \"/Ida_home.parquet\")"
   ]
  },
  {
   "cell_type": "code",
   "execution_count": 9,
   "id": "a220d6ab",
   "metadata": {},
   "outputs": [
    {
     "data": {
      "text/plain": [
       "243.71250609539814"
      ]
     },
     "execution_count": 9,
     "metadata": {},
     "output_type": "execute_result"
    }
   ],
   "source": [
    "haversine((45.7597, 4.8422), (48.8567, 2.3508), unit='mi')"
   ]
  },
  {
   "cell_type": "code",
   "execution_count": 12,
   "id": "a48ed0ba",
   "metadata": {},
   "outputs": [],
   "source": [
    "UID, LON, LAT, TS = 'uid', 'lon', 'lat', 'ts'"
   ]
  },
  {
   "cell_type": "code",
   "execution_count": 13,
   "id": "91e63220",
   "metadata": {},
   "outputs": [],
   "source": [
    "for f in os.listdir(P.data + '/post_locs/Ida/'):\n",
    "    post_homes = pd.read_parquet(P.data + '/post_locs/Ida/'+f)\n",
    "    post_homes = pd.merge(pre_homes, post_homes, on='uid', how = \"left\")\n",
    "    # calculate distance home to home and distance work to home\n",
    "    post_homes['dist_home2home'] = post_homes.apply(lambda x: haversine((x['lat_x'], x['lon_x']), (x['lat'], x['lon']), unit='mi'), axis=1)\n",
    "    post_homes['dist_work2home'] = post_homes.apply(lambda x: haversine((x['lat_y'], x['lon_y']), (x['lat'], x['lon']), unit='mi'), axis=1)            \n",
    "\n",
    "    post_homes = post_homes[[UID, 'dist_home2home','dist_work2home']]\n",
    "\n",
    "    post_homes.to_parquet(P.data+\"/home_dists/\"+f)"
   ]
  },
  {
   "cell_type": "code",
   "execution_count": 14,
   "id": "0d2a9b94",
   "metadata": {},
   "outputs": [],
   "source": [
    "import numpy as np\n",
    "import pandas as pd\n",
    "import geopandas as gpd\n",
    "import matplotlib.pyplot as plt\n",
    "from types import SimpleNamespace\n",
    "from glob import glob\n",
    "import datetime as dt\n",
    "from tqdm import tqdm\n",
    "from datetime import datetime\n",
    "\n",
    "P = SimpleNamespace()\n",
    "P.data = \"../data\"\n",
    "CRS_DEG = 'EPSG:4326'\n",
    "CRS_M = 'EPSG:3857'"
   ]
  },
  {
   "cell_type": "code",
   "execution_count": 15,
   "id": "991d9b07",
   "metadata": {},
   "outputs": [],
   "source": [
    "pre_homes = pd.read_parquet(P.data + '/Ida_home.parquet')"
   ]
  },
  {
   "cell_type": "code",
   "execution_count": 16,
   "id": "fd0704f0",
   "metadata": {},
   "outputs": [],
   "source": [
    "pre_homes = gpd.GeoDataFrame(pre_homes, geometry=gpd.points_from_xy(pre_homes['lon'], pre_homes['lat']), crs=CRS_DEG).dropna()"
   ]
  },
  {
   "cell_type": "code",
   "execution_count": 17,
   "id": "4519242f",
   "metadata": {},
   "outputs": [],
   "source": [
    "svi_tract = gpd.read_file(P.data + '/map/svi_tract.gpkg')"
   ]
  },
  {
   "cell_type": "code",
   "execution_count": 18,
   "id": "8f029680",
   "metadata": {},
   "outputs": [],
   "source": [
    "pre_homes = pre_homes.sjoin(svi_tract, predicate='within')"
   ]
  },
  {
   "cell_type": "code",
   "execution_count": 19,
   "id": "b642751b",
   "metadata": {},
   "outputs": [
    {
     "name": "stderr",
     "output_type": "stream",
     "text": [
      "100%|██████████| 122/122 [00:03<00:00, 35.70it/s]\n"
     ]
    },
    {
     "name": "stdout",
     "output_type": "stream",
     "text": [
      "CPU times: total: 594 ms\n",
      "Wall time: 5.23 s\n"
     ]
    }
   ],
   "source": [
    "# post_homes = pd.concat([\n",
    "#     pd.read_parquet(f).assign(date = f.split('\\\\')[-1].split('.')[0]) # \"\\\\\" for windows, \"/\" for other os\n",
    "#     for f in tqdm(glob(P.data + '/home_dists/*.parquet'))\n",
    "# ]).reset_index(drop=True)\n",
    "\n",
    "# post_homes['date'] = pd.to_datetime(post_homes['date'])\n",
    "\n",
    "# pre_homes = post_homes[post_homes['date']<= datetime.strptime('2021-08-21', '%Y-%m-%d')].reset_index()\n",
    "\n",
    "# pre_homes = pre_homes.groupby(\"uid\").agg({\"dist_home2home\": [np.nanmean, np.nanstd], \\\n",
    "#                              \"dist_work2home\": [np.nanmean, np.nanstd]})\n",
    "\n",
    "# pre_homes = pre_homes.reset_index()\n",
    "# pre_homes.columns = ['_'.join(col).strip() for col in pre_homes.columns.values]\n",
    "\n",
    "# merged_home = pd.merge(pre_homes, post_homes, left_on='uid_', right_on='uid', how = 'left')\n",
    "\n",
    "# merged_home['threshold_night'] = merged_home['dist_home2home_nanmean']+2*merged_home['dist_home2home_nanstd']\n",
    "# merged_home['threshold_day'] = merged_home['dist_work2home_nanmean']+2*merged_home['dist_work2home_nanstd']\n",
    "# merged_home['threshold_night'] = merged_home['threshold_night'].clip(lower=400/1609.344) # the minimum threshold is 400 m\n",
    "# merged_home['threshold_day'] = merged_home['threshold_day'].clip(lower=400/1609.344)\n",
    "# merged_home['displaced_night'] = merged_home['dist_home2home']>merged_home['threshold_night']\n",
    "# merged_home['displaced_day'] = merged_home['dist_work2home']>merged_home['threshold_day']\n",
    "\n",
    "# merged_home = merged_home.groupby('uid').agg({'displaced_night': list, 'displaced_day':list, 'date':list}).reset_index()\n",
    "\n",
    "# merged_home.to_parquet(P.data+ '/displaced_by_halfday.parquet')"
   ]
  },
  {
   "cell_type": "code",
   "execution_count": null,
   "id": "817ef1d1",
   "metadata": {},
   "outputs": [],
   "source": [
    "merged_home = pd.read_parquet(P.data+ '/displaced_by_halfday.parquet')"
   ]
  },
  {
   "cell_type": "code",
   "execution_count": 21,
   "id": "ae20fbc1",
   "metadata": {},
   "outputs": [],
   "source": [
    "def get_displace_status(row, thres = 10):\n",
    "    index = [dt.days for dt in (pd.to_datetime(row['date']) - datetime.strptime('2021-08-01', '%Y-%m-%d'))]\n",
    "    displaced = [-1]*(2*(datetime.strptime('2021-12-01', '%Y-%m-%d') - datetime.strptime('2021-08-01', '%Y-%m-%d')).days)\n",
    "    for i, disp_night, disp_day in zip(index, row['displaced_night'], row['displaced_day']):\n",
    "        displaced[i*2] = 1 if disp_day else 0\n",
    "        displaced[i*2 + 1] = 1 if disp_night else 0 \n",
    "    \n",
    "    current_state = 0\n",
    "    for i in range(len(displaced)-thres+1):\n",
    "        if(1-current_state == displaced[i]): # start of a new state\n",
    "            count_left = sum([1 if j==1 else 0 for j in displaced[i:(i+thres)]])\n",
    "            count_return = sum([1 if j==0 else 0 for j in displaced[i:(i+thres)]])\n",
    "            if(count_left>thres*3/10):\n",
    "                current_state = 1\n",
    "                for j in range(i+1, i+thres*2//10):\n",
    "                    displaced[j] = 1\n",
    "            elif(count_return>=thres*8/10):\n",
    "                current_state = 0\n",
    "                for j in range(i+1, i+thres*8//10):\n",
    "                    displaced[j] = 0\n",
    "        \n",
    "        displaced[i] = current_state\n",
    "            \n",
    "    for i in range(len(displaced)-thres+1, len(displaced)):\n",
    "        displaced[i] = current_state\n",
    "    \n",
    "    return displaced\n",
    "\n",
    "merged_home['disp_status'] = merged_home.apply(lambda row: get_displace_status(row), axis = 1)\n",
    "merged_home['disp_status'] = merged_home['disp_status'].apply(lambda x: np.array(x))"
   ]
  },
  {
   "cell_type": "code",
   "execution_count": 23,
   "id": "d1b75d16",
   "metadata": {},
   "outputs": [],
   "source": [
    "def find_first(x,inds,target=1):\n",
    "    for ind in inds:\n",
    "        if x[ind]==1 and x[ind-1] == 0:\n",
    "            return ind\n",
    "    return -1\n",
    "\n",
    "merged_home['disp_t'] = -1\n",
    "merged_home['disp_t'] = merged_home['disp_status'].apply(lambda x: find_first(x, list(range(42,244))))\n",
    "\n",
    "def find_return_t(row):\n",
    "    if (row['disp_t']>0):\n",
    "        for ind in range(row['disp_t'], len(row['disp_status'])):\n",
    "            if row['disp_status'][ind]==0:\n",
    "                return ind\n",
    "    return -1\n",
    "\n",
    "merged_home['returned_t'] = merged_home.apply(lambda x: find_return_t(x), axis = 1)\n",
    "merged_home['returned'] = merged_home['returned_t'].apply(lambda x: x>0)\n",
    "merged_home['duration'] = merged_home['returned_t'] - merged_home['disp_t']\n",
    "\n",
    "merged_home.to_parquet(P.data+\"/disp_by_uid.parquet\")"
   ]
  },
  {
   "cell_type": "markdown",
   "id": "a932e3c1",
   "metadata": {},
   "source": [
    "# Evac destination"
   ]
  },
  {
   "cell_type": "code",
   "execution_count": 3,
   "id": "8422d782",
   "metadata": {},
   "outputs": [
    {
     "name": "stderr",
     "output_type": "stream",
     "text": [
      "100%|██████████| 122/122 [00:03<00:00, 37.68it/s]\n"
     ]
    }
   ],
   "source": [
    "merged_home = pd.read_parquet(P.data + \"/disp_by_uid.parquet\")\n",
    "disp_users = merged_home[(merged_home['disp_t']>0)]\n",
    "\n",
    "# t = 6s\n",
    "post_homes = pd.concat([\n",
    "    pd.read_parquet(f).assign(date = f.split('\\\\')[-1].split('.')[0]) # \"\\\\\" for windows, \"/\" for other os\n",
    "    for f in tqdm(glob(P.data + '/home_dists/*.parquet'))\n",
    "]).reset_index(drop=True)"
   ]
  },
  {
   "cell_type": "code",
   "execution_count": 42,
   "id": "61c76b50",
   "metadata": {},
   "outputs": [],
   "source": [
    "# index = [dt.days for dt in (pd.to_datetime(row['date']) - datetime.strptime('2021-08-01', '%Y-%m-%d'))]\n",
    "# displaced = [-1]*(2*(datetime.strptime('2021-12-01', '%Y-%m-%d') - datetime.strptime('2021-08-01', '%Y-%m-%d')).days)\n",
    "# for i, disp_night, disp_day in zip(index, row['displaced_night'], row['displaced_day']):\n",
    "#       displaced[i*2] = 1 if disp_day else 0\n",
    "#       displaced[i*2 + 1] = 1 if disp_night else 0 "
   ]
  },
  {
   "cell_type": "code",
   "execution_count": 4,
   "id": "27cd3672",
   "metadata": {},
   "outputs": [
    {
     "name": "stderr",
     "output_type": "stream",
     "text": [
      "C:\\Users\\ALei\\AppData\\Local\\Temp\\ipykernel_49524\\3829018099.py:9: RuntimeWarning: All-NaN axis encountered\n",
      "  res.append(np.nanmax(tmp['dist_home2home']))\n",
      "C:\\Users\\ALei\\AppData\\Local\\Temp\\ipykernel_49524\\3829018099.py:10: SettingWithCopyWarning: \n",
      "A value is trying to be set on a copy of a slice from a DataFrame.\n",
      "Try using .loc[row_indexer,col_indexer] = value instead\n",
      "\n",
      "See the caveats in the documentation: https://pandas.pydata.org/pandas-docs/stable/user_guide/indexing.html#returning-a-view-versus-a-copy\n",
      "  disp_users['dist'] = res\n"
     ]
    }
   ],
   "source": [
    "# use the maximum home2home distance during the evacuated period as the evacuation distance, uid, dist\n",
    "post_homes['date'] = pd.to_datetime(post_homes['date'])\n",
    "res = []\n",
    "for _, row in disp_users.iterrows():\n",
    "    tmp = post_homes[post_homes['uid']==row['uid']]\n",
    "    tmp = tmp[(tmp['date']-datetime.strptime('2021-08-01', '%Y-%m-%d')) >= dt.timedelta(days=int(row['disp_t']//2))]\n",
    "    if row['returned']:\n",
    "       tmp = tmp[(tmp['date']-datetime.strptime('2021-08-01', '%Y-%m-%d')) < dt.timedelta(days=int(row['returned_t']//2))]\n",
    "    res.append(np.nanmax(tmp['dist_home2home']))\n",
    "disp_users['dist'] = res"
   ]
  },
  {
   "cell_type": "code",
   "execution_count": 5,
   "id": "903a4b1f",
   "metadata": {},
   "outputs": [],
   "source": [
    "disp_users[['uid','dist']].to_parquet(P.data+\"/Ida_dist.parquet\")"
   ]
  }
 ],
 "metadata": {
  "kernelspec": {
   "display_name": "Python 3 (ipykernel)",
   "language": "python",
   "name": "python3"
  },
  "language_info": {
   "codemirror_mode": {
    "name": "ipython",
    "version": 3
   },
   "file_extension": ".py",
   "mimetype": "text/x-python",
   "name": "python",
   "nbconvert_exporter": "python",
   "pygments_lexer": "ipython3",
   "version": "3.10.12"
  },
  "toc-autonumbering": true
 },
 "nbformat": 4,
 "nbformat_minor": 5
}
