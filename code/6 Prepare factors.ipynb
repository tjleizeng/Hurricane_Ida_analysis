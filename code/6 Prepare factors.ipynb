{
 "cells": [
  {
   "cell_type": "markdown",
   "id": "91b1e591-ff0b-4a69-b4f6-12c97a90dc48",
   "metadata": {},
   "source": [
    "# Prepare data for next-step modeling"
   ]
  },
  {
   "cell_type": "code",
   "execution_count": 1,
   "id": "7488d99c-adb7-4a7d-97ef-89f791e61868",
   "metadata": {
    "tags": []
   },
   "outputs": [],
   "source": [
    "import numpy as np\n",
    "import pandas as pd\n",
    "import geopandas as gpd\n",
    "import matplotlib.pyplot as plt\n",
    "import seaborn as sns\n",
    "from types import SimpleNamespace\n",
    "import os\n",
    "from datetime import datetime\n",
    "from scipy.spatial import distance_matrix\n",
    "from shapely.geometry import Point\n",
    "import pyproj\n",
    "from haversine import haversine\n",
    "\n",
    "P = SimpleNamespace()\n",
    "P.data = \"../data\"\n",
    "CRS_DEG = 'EPSG:4326'\n",
    "CRS_M = 'EPSG:3857'"
   ]
  },
  {
   "cell_type": "markdown",
   "id": "e5d2e4eb",
   "metadata": {},
   "source": [
    "# Disp status data"
   ]
  },
  {
   "cell_type": "code",
   "execution_count": 2,
   "id": "84d295db",
   "metadata": {},
   "outputs": [
    {
     "name": "stderr",
     "output_type": "stream",
     "text": [
      "c:\\Users\\ALei\\anaconda3\\envs\\gp310\\lib\\site-packages\\IPython\\core\\interactiveshell.py:3466: FutureWarning: The `op` parameter is deprecated and will be removed in a future release. Please use the `predicate` parameter instead.\n",
      "  if await self.run_code(code, result, async_=asy):\n"
     ]
    }
   ],
   "source": [
    "pre_home = pd.read_parquet(P.data + \"/Ida_home.parquet\")\n",
    "post_home = pd.read_parquet(P.data + \"/Ida_dist.parquet\")\n",
    "merged_home = pd.read_parquet(P.data + \"/disp_by_uid.parquet\")\n",
    "\n",
    "merged_home.loc[merged_home['returned_t']==-1, 'duration'] = np.nan\n",
    "\n",
    "merged_home = merged_home[['uid', 'disp_t', 'duration']]\n",
    "\n",
    "pre_post_home = pd.merge(pre_home, post_home, on='uid')\n",
    "# pre_post_home['dist'] = pre_post_home.apply(lambda row: haversine((row['lat_x'], row['lon_x']), (row['lat_y'], row['lon_y']))//1.60934, axis = 1)\n",
    "merged_home = pd.merge(merged_home, pre_post_home, on = 'uid')\n",
    "\n",
    "merged_home['disp_wave1'] = (merged_home['disp_t']>=22*2) & (merged_home['disp_t']<29*2)\n",
    "merged_home['disp_wave2'] = (merged_home['disp_t']>=29*2) & (merged_home['disp_t']<40*2) # wave2\n",
    "merged_home['disp_wave3'] = (merged_home['disp_t']>=40*2) & (merged_home['disp_t']<50*2) # wave3\n",
    "merged_home['disp_wave0'] = merged_home['disp_wave1'] | merged_home['disp_wave2'] | merged_home['disp_wave3']   # wave1 & wave2 & wave3\n",
    "\n",
    "merged_tract = gpd.read_file(P.data + '/map/merged_tract.gpkg').to_crs(CRS_DEG)\n",
    "merged_home = gpd.GeoDataFrame(\n",
    "    merged_home, geometry=gpd.points_from_xy(merged_home.lon, merged_home.lat), crs=CRS_DEG)\n",
    "merged_home = gpd.sjoin(merged_home, merged_tract, op = 'within')"
   ]
  },
  {
   "cell_type": "code",
   "execution_count": 3,
   "id": "f322f045",
   "metadata": {},
   "outputs": [
    {
     "name": "stderr",
     "output_type": "stream",
     "text": [
      "C:\\Users\\ALei\\AppData\\Local\\Temp\\ipykernel_2764\\1693445878.py:10: FutureWarning: The provided callable <function nanmean at 0x000002487F3CA8C0> is currently using SeriesGroupBy.mean. In a future version of pandas, the provided callable will be used directly. To keep current behavior pass 'mean' instead.\n",
      "  temp_df = temp_df.groupby('id').agg({'dist':[np.nanmean, np.nanstd], 'duration':[np.nanmean, np.nanstd]}).reset_index()\n",
      "C:\\Users\\ALei\\AppData\\Local\\Temp\\ipykernel_2764\\1693445878.py:10: FutureWarning: The provided callable <function nanstd at 0x000002487F3CB1C0> is currently using SeriesGroupBy.std. In a future version of pandas, the provided callable will be used directly. To keep current behavior pass 'std' instead.\n",
      "  temp_df = temp_df.groupby('id').agg({'dist':[np.nanmean, np.nanstd], 'duration':[np.nanmean, np.nanstd]}).reset_index()\n",
      "C:\\Users\\ALei\\AppData\\Local\\Temp\\ipykernel_2764\\1693445878.py:10: FutureWarning: The provided callable <function nanmean at 0x000002487F3CA8C0> is currently using SeriesGroupBy.mean. In a future version of pandas, the provided callable will be used directly. To keep current behavior pass 'mean' instead.\n",
      "  temp_df = temp_df.groupby('id').agg({'dist':[np.nanmean, np.nanstd], 'duration':[np.nanmean, np.nanstd]}).reset_index()\n",
      "C:\\Users\\ALei\\AppData\\Local\\Temp\\ipykernel_2764\\1693445878.py:10: FutureWarning: The provided callable <function nanstd at 0x000002487F3CB1C0> is currently using SeriesGroupBy.std. In a future version of pandas, the provided callable will be used directly. To keep current behavior pass 'std' instead.\n",
      "  temp_df = temp_df.groupby('id').agg({'dist':[np.nanmean, np.nanstd], 'duration':[np.nanmean, np.nanstd]}).reset_index()\n",
      "C:\\Users\\ALei\\AppData\\Local\\Temp\\ipykernel_2764\\1693445878.py:10: FutureWarning: The provided callable <function nanmean at 0x000002487F3CA8C0> is currently using SeriesGroupBy.mean. In a future version of pandas, the provided callable will be used directly. To keep current behavior pass 'mean' instead.\n",
      "  temp_df = temp_df.groupby('id').agg({'dist':[np.nanmean, np.nanstd], 'duration':[np.nanmean, np.nanstd]}).reset_index()\n",
      "C:\\Users\\ALei\\AppData\\Local\\Temp\\ipykernel_2764\\1693445878.py:10: FutureWarning: The provided callable <function nanstd at 0x000002487F3CB1C0> is currently using SeriesGroupBy.std. In a future version of pandas, the provided callable will be used directly. To keep current behavior pass 'std' instead.\n",
      "  temp_df = temp_df.groupby('id').agg({'dist':[np.nanmean, np.nanstd], 'duration':[np.nanmean, np.nanstd]}).reset_index()\n",
      "C:\\Users\\ALei\\AppData\\Local\\Temp\\ipykernel_2764\\1693445878.py:10: FutureWarning: The provided callable <function nanmean at 0x000002487F3CA8C0> is currently using SeriesGroupBy.mean. In a future version of pandas, the provided callable will be used directly. To keep current behavior pass 'mean' instead.\n",
      "  temp_df = temp_df.groupby('id').agg({'dist':[np.nanmean, np.nanstd], 'duration':[np.nanmean, np.nanstd]}).reset_index()\n",
      "C:\\Users\\ALei\\AppData\\Local\\Temp\\ipykernel_2764\\1693445878.py:10: FutureWarning: The provided callable <function nanstd at 0x000002487F3CB1C0> is currently using SeriesGroupBy.std. In a future version of pandas, the provided callable will be used directly. To keep current behavior pass 'std' instead.\n",
      "  temp_df = temp_df.groupby('id').agg({'dist':[np.nanmean, np.nanstd], 'duration':[np.nanmean, np.nanstd]}).reset_index()\n"
     ]
    }
   ],
   "source": [
    "df = merged_home\n",
    "\n",
    "# Create empty DataFrame for results\n",
    "result_df = pd.DataFrame()\n",
    "\n",
    "# Calculate mean and std for each wave\n",
    "for i in range(0, 4):\n",
    "    wave_column = f\"disp_wave{i}\"\n",
    "    temp_df = df[df[wave_column] == True]  # select only rows where wave_column is True\n",
    "    temp_df = temp_df.groupby('id').agg({'dist':[np.nanmean, np.nanstd], 'duration':[np.nanmean, np.nanstd]}).reset_index()\n",
    "    temp_df.columns = ['id', f'dist_wave{i}', f'dist_wave{i}_std', f'duration_wave{i}', f'duration_wave{i}_std']\n",
    "    \n",
    "    # merge results into result_df\n",
    "    if result_df.empty:\n",
    "        result_df = temp_df\n",
    "    else:\n",
    "        result_df = pd.merge(result_df, temp_df, on='id', how='outer')"
   ]
  },
  {
   "cell_type": "code",
   "execution_count": 4,
   "id": "95a3a532",
   "metadata": {},
   "outputs": [],
   "source": [
    "result_df.to_parquet(P.data+\"/dist_by_merged_tract.parquet\")"
   ]
  },
  {
   "cell_type": "markdown",
   "id": "0a0701ad-9fd0-42b0-a03d-791a7e22cdff",
   "metadata": {},
   "source": [
    "# COVID-19 risk data"
   ]
  },
  {
   "cell_type": "code",
   "execution_count": 5,
   "id": "1bd17575",
   "metadata": {},
   "outputs": [],
   "source": [
    "df_displacement = pd.read_parquet(P.data+\"/disp_by_merged_tract.parquet\")\n",
    "# df_displacement['disp_ratio_wave0'] = df_displacement['disp_ratio_wave1'] + df_displacement['disp_ratio_wave2'] + df_displacement['disp_ratio_wave3']\n",
    "# df_displacement['return_ratio_wave0'] = (df_displacement['return_ratio_wave1']*df_displacement['disp_ratio_wave1'] + df_displacement['return_ratio_wave2']*df_displacement['disp_ratio_wave2'] + df_displacement['return_ratio_wave3']*df_displacement['disp_ratio_wave3'])/df_displacement['disp_ratio_wave0']\n",
    "# df_displacement['return_ratio_wave0_7days'] = (df_displacement['return_ratio_wave1_7days']*df_displacement['disp_ratio_wave1'] + df_displacement['return_ratio_wave2_7days']*df_displacement['disp_ratio_wave2'] + df_displacement['return_ratio_wave3_7days']*df_displacement['disp_ratio_wave3'])/df_displacement['disp_ratio_wave0']\n",
    "\n",
    "df_dest = pd.read_parquet(P.data + \"/dist_by_merged_tract.parquet\")\n",
    "\n",
    "# get evacuation distance, Wave 1, Wave 2, Wave 3\n",
    "df_input = pd.merge(df_displacement, df_dest, on='id', how='left')"
   ]
  },
  {
   "cell_type": "code",
   "execution_count": 6,
   "id": "caebbf98-e5da-4e38-bb52-5082ee9cf35f",
   "metadata": {},
   "outputs": [
    {
     "name": "stderr",
     "output_type": "stream",
     "text": [
      "C:\\Users\\ALei\\AppData\\Local\\Temp\\ipykernel_2764\\676752284.py:31: FutureWarning: The provided callable <function sum at 0x000002487F29C160> is currently using SeriesGroupBy.sum. In a future version of pandas, the provided callable will be used directly. To keep current behavior pass 'sum' instead.\n",
      "  case_wave1 = case_wave1.groupby([\"geoid\"]).agg({\"nPositive\": np.sum, \"nTests\": np.sum, \"nCases\":np.sum}).reset_index()\n",
      "C:\\Users\\ALei\\AppData\\Local\\Temp\\ipykernel_2764\\676752284.py:37: FutureWarning: The provided callable <function sum at 0x000002487F29C160> is currently using SeriesGroupBy.sum. In a future version of pandas, the provided callable will be used directly. To keep current behavior pass 'sum' instead.\n",
      "  case_wave2 = case_wave2.groupby([\"geoid\"]).agg({\"nPositive\": np.sum, \"nTests\": np.sum, \"nCases\":np.sum}).reset_index()\n",
      "C:\\Users\\ALei\\AppData\\Local\\Temp\\ipykernel_2764\\676752284.py:42: FutureWarning: The provided callable <function sum at 0x000002487F29C160> is currently using SeriesGroupBy.sum. In a future version of pandas, the provided callable will be used directly. To keep current behavior pass 'sum' instead.\n",
      "  case_wave3 = case_wave3.groupby([\"geoid\"]).agg({\"nPositive\": np.sum, \"nTests\": np.sum, \"nCases\":np.sum}).reset_index()\n",
      "C:\\Users\\ALei\\AppData\\Local\\Temp\\ipykernel_2764\\676752284.py:47: FutureWarning: The provided callable <function sum at 0x000002487F29C160> is currently using SeriesGroupBy.sum. In a future version of pandas, the provided callable will be used directly. To keep current behavior pass 'sum' instead.\n",
      "  case_wave0 = case_wave0.groupby([\"geoid\"]).agg({\"nPositive\": np.sum, \"nTests\": np.sum, \"nCases\":np.sum}).reset_index()\n"
     ]
    }
   ],
   "source": [
    "vaccine = []\n",
    "for filename in os.listdir(P.data + \"/covid/vaccine\"):\n",
    "    df = pd.read_csv(P.data + \"/covid/vaccine/\" + filename, encoding='UTF-16', delimiter='\\t')\n",
    "    vaccine.append(df)\n",
    "    \n",
    "vaccine = pd.concat(vaccine)\n",
    "\n",
    "cases = pd.read_csv(P.data + '/covid/weeky_cases_by_tract_LA.csv')\n",
    "# cases = cases[cases['week_start']=='2021-08-19']\n",
    "cases['geoid'] = cases['tract']\n",
    "\n",
    "# Wave 1:8-18, Wave 2:8-25, Wave 3: 9-8.\n",
    "vaccine_wave1 = vaccine[vaccine['admin_date']=='8/25/2021'].copy()\n",
    "vaccine_wave1.drop([\"admin_date\", \"Max. admin_date\"], axis = 1, inplace=True)\n",
    "vaccine_wave1.columns = [\"Parish\", \"Completed_wave1\", \"Initiated_wave1\"]\n",
    "vaccine_wave2 = vaccine[vaccine['admin_date']=='9/1/2021'].copy()\n",
    "vaccine_wave2.drop([\"admin_date\", \"Max. admin_date\"], axis = 1, inplace=True)\n",
    "vaccine_wave2.columns = [\"Parish\", \"Completed_wave2\", \"Initiated_wave2\"]\n",
    "vaccine_wave3 = vaccine[vaccine['admin_date']=='9/8/2021'].copy()\n",
    "vaccine_wave3.drop([\"admin_date\", \"Max. admin_date\"], axis = 1, inplace=True)\n",
    "vaccine_wave3.columns = [\"Parish\", \"Completed_wave3\", \"Initiated_wave3\"]\n",
    "\n",
    "vaccine_wave0 = vaccine[vaccine['admin_date']=='9/8/2021'].copy()\n",
    "vaccine_wave0.drop([\"admin_date\", \"Max. admin_date\"], axis = 1, inplace=True)\n",
    "vaccine_wave0.columns = [\"Parish\", \"Completed_wave0\", \"Initiated_wave0\"]\n",
    "\n",
    "vaccine = pd.merge(vaccine_wave1, pd.merge(vaccine_wave2, pd.merge(vaccine_wave3, vaccine_wave0, on='Parish'), on='Parish'), on='Parish')\n",
    "\n",
    "# 2 weeks\n",
    "case_wave1 = cases[cases['week_end'].isin(['2021-08-11', '2021-08-18', '2021-08-25'])].copy()\n",
    "case_wave1 = case_wave1.groupby([\"geoid\"]).agg({\"nPositive\": np.sum, \"nTests\": np.sum, \"nCases\":np.sum}).reset_index()\n",
    "# case_wave1.drop([\"parish\",\"tract\",\"week_num\", \"week_start\", \"week_end\", \"nNegative\"], axis = 1, inplace=True)\n",
    "case_wave1.columns = [\"geoid\", \"nPosivie_wave1\", \"nTest_wave1\", \"nCases_wave1\"]\n",
    "\n",
    "case_wave2 = cases[cases['week_end'].isin(['2021-08-18', '2021-08-25', '2021-09-01'])].copy()\n",
    "# case_wave2.drop([\"parish\",\"tract\",\"week_num\", \"week_start\", \"week_end\", \"nNegative\"], axis = 1, inplace=True)\n",
    "case_wave2 = case_wave2.groupby([\"geoid\"]).agg({\"nPositive\": np.sum, \"nTests\": np.sum, \"nCases\":np.sum}).reset_index()\n",
    "case_wave2.columns = [\"geoid\", \"nPosivie_wave2\", \"nTest_wave2\", \"nCases_wave2\"]\n",
    "\n",
    "case_wave3 = cases[cases['week_end'].isin(['2021-08-25', '2021-09-01', '2021-09-08'])].copy()\n",
    "# case_wave3.drop([\"parish\",\"tract\",\"week_num\", \"week_start\", \"week_end\", \"nNegative\"], axis = 1, inplace=True)\n",
    "case_wave3 = case_wave3.groupby([\"geoid\"]).agg({\"nPositive\": np.sum, \"nTests\": np.sum, \"nCases\":np.sum}).reset_index()\n",
    "case_wave3.columns = [\"geoid\", \"nPosivie_wave3\", \"nTest_wave3\", \"nCases_wave3\"]\n",
    "# case_wave3 = cases[cases['week_end'].isin(['2021-08-18', '2021-08-25', '2021-09-01', '2021-09-08'])].copy()\n",
    "\n",
    "case_wave0 = cases[cases['week_end'].isin(['2021-08-11', '2021-08-18', '2021-08-25', '2021-09-01', '2021-09-08'])].copy()\n",
    "case_wave0 = case_wave0.groupby([\"geoid\"]).agg({\"nPositive\": np.sum, \"nTests\": np.sum, \"nCases\":np.sum}).reset_index()\n",
    "case_wave0.columns = [\"geoid\", \"nPosivie_wave0\", \"nTest_wave0\", \"nCases_wave0\"]\n",
    "\n",
    "cases = pd.merge(case_wave1, pd.merge(case_wave2, pd.merge(case_wave3, case_wave0, on='geoid'), on='geoid'), on='geoid')"
   ]
  },
  {
   "cell_type": "code",
   "execution_count": 7,
   "id": "b3ca9c5c",
   "metadata": {},
   "outputs": [],
   "source": [
    "vaccine = vaccine.drop_duplicates('Parish').reset_index(drop=True)"
   ]
  },
  {
   "cell_type": "code",
   "execution_count": 8,
   "metadata": {},
   "outputs": [],
   "source": [
    "vaccine['Completed_wave0'] = vaccine['Completed_wave0'].str.rstrip('%').astype('float')\n",
    "vaccine['Initiated_wave0'] = vaccine['Initiated_wave0'].str.rstrip('%').astype('float')\n",
    "vaccine['Completed_wave1'] = vaccine['Completed_wave1'].str.rstrip('%').astype('float')\n",
    "vaccine['Initiated_wave1'] = vaccine['Initiated_wave1'].str.rstrip('%').astype('float')\n",
    "vaccine['Completed_wave2'] = vaccine['Completed_wave2'].str.rstrip('%').astype('float')\n",
    "vaccine['Initiated_wave2'] = vaccine['Initiated_wave2'].str.rstrip('%').astype('float')\n",
    "vaccine['Completed_wave3'] = vaccine['Completed_wave3'].str.rstrip('%').astype('float')\n",
    "vaccine['Initiated_wave3'] = vaccine['Initiated_wave3'].str.rstrip('%').astype('float')"
   ]
  },
  {
   "cell_type": "code",
   "execution_count": 9,
   "id": "c72450cb-c3ca-4e73-a622-67398a04610a",
   "metadata": {
    "tags": []
   },
   "outputs": [],
   "source": [
    "svi_tract = gpd.read_file(P.data + '/map/svi_tract.gpkg').to_crs(CRS_M)\n",
    "\n",
    "svi_tract['geoid'] = svi_tract['geoid'].astype(np.int64)\n",
    "\n",
    "# svi_tract = pd.read_csv(P.data + '/map/Louisiana.csv')\n",
    "# svi_tract['geoid'] = svi_tract['FIPS'].astype(np.int64)\n",
    "svi_tract.columns = [column.lower() for column in svi_tract.columns]\n",
    "\n",
    "svi_tract = pd.merge(left=svi_tract, right = cases, on = 'geoid', how = 'left')\n",
    "\n",
    "svi_tract = pd.merge(svi_tract, vaccine, left_on = 'county', right_on = 'Parish')"
   ]
  },
  {
   "cell_type": "code",
   "execution_count": 10,
   "id": "ed8c9316-2ab5-46f4-870e-3400d8108d31",
   "metadata": {
    "tags": []
   },
   "outputs": [],
   "source": [
    "svi_tract = svi_tract[['geoid', 'geometry', 'e_totpop',  'nTest_wave0', 'nPosivie_wave0','nCases_wave0', 'nTest_wave1', 'nPosivie_wave1','nCases_wave1','nTest_wave2','nPosivie_wave2','nCases_wave2','nTest_wave3','nPosivie_wave3','nCases_wave3','Completed_wave0','Initiated_wave0','Completed_wave1','Initiated_wave1','Completed_wave2','Initiated_wave2','Completed_wave3','Initiated_wave3']].reset_index(drop=True)"
   ]
  },
  {
   "cell_type": "code",
   "execution_count": 11,
   "id": "cf768dc2",
   "metadata": {},
   "outputs": [],
   "source": [
    "svi_tract['Positive_wave0'] = svi_tract['nPosivie_wave0']/svi_tract['nTest_wave0']\n",
    "svi_tract['Positive_wave1'] = svi_tract['nPosivie_wave1']/svi_tract['nTest_wave1']\n",
    "svi_tract['Positive_wave2'] = svi_tract['nPosivie_wave2']/svi_tract['nTest_wave2']\n",
    "svi_tract['Positive_wave3'] = svi_tract['nPosivie_wave3']/svi_tract['nTest_wave3']\n",
    "\n",
    "svi_tract['Cases_wave0'] = svi_tract['nCases_wave0']/svi_tract['e_totpop']\n",
    "svi_tract['Cases_wave1'] = svi_tract['nCases_wave1']/svi_tract['e_totpop']\n",
    "svi_tract['Cases_wave2'] = svi_tract['nCases_wave2']/svi_tract['e_totpop']\n",
    "svi_tract['Cases_wave3'] = svi_tract['nCases_wave3']/svi_tract['e_totpop']"
   ]
  },
  {
   "cell_type": "code",
   "execution_count": 12,
   "id": "2debb7a6",
   "metadata": {},
   "outputs": [],
   "source": [
    "from sklearn.neighbors import KNeighborsRegressor\n",
    "# KNN for estimating missing COVID case and Positive RATIO values \n",
    "for i in range(0,4):\n",
    "    non_zero = svi_tract[(svi_tract[f'Cases_wave{i}'] != 0)&(~svi_tract[f'Cases_wave{i}'].isna())].reset_index(drop=True)\n",
    "    zero_case = svi_tract[(svi_tract[f'Cases_wave{i}'] == 0)|(svi_tract[f'Cases_wave{i}'].isna())].reset_index(drop=True)\n",
    "    knn = KNeighborsRegressor(n_neighbors=8, weights = 'distance') \n",
    "    knn.fit(np.stack((non_zero.centroid.x, non_zero.centroid.y), axis = 1), non_zero[f'Cases_wave{i}'])\n",
    "    zero_case[f'Cases_wave{i}'] = knn.predict(np.stack((zero_case.centroid.x, zero_case.centroid.y), axis = 1))\n",
    "    svi_tract = pd.concat([non_zero, zero_case])\n",
    "\n",
    "    non_zero = svi_tract[(svi_tract[f'Positive_wave{i}'] != 0)&(~svi_tract[f'Positive_wave{i}'].isna())].reset_index(drop=True)\n",
    "    zero_case = svi_tract[(svi_tract[f'Positive_wave{i}'] == 0)|(svi_tract[f'Positive_wave{i}'].isna())].reset_index(drop=True)\n",
    "    knn = KNeighborsRegressor(n_neighbors=8, weights = 'distance') \n",
    "    knn.fit(np.stack((non_zero.centroid.x, non_zero.centroid.y), axis = 1), non_zero[f'Positive_wave{i}'])\n",
    "    zero_case[f'Positive_wave{i}'] = knn.predict(np.stack((zero_case.centroid.x, zero_case.centroid.y), axis = 1))\n",
    "    svi_tract = pd.concat([non_zero, zero_case])\n",
    "\n",
    "svi_tract['nCases_wave0'] = svi_tract['Cases_wave0']*svi_tract['e_totpop']/5\n",
    "svi_tract['nCases_wave1'] = svi_tract['Cases_wave1']*svi_tract['e_totpop']/3\n",
    "svi_tract['nCases_wave2'] = svi_tract['Cases_wave2']*svi_tract['e_totpop']/3\n",
    "svi_tract['nCases_wave3'] = svi_tract['Cases_wave3']*svi_tract['e_totpop']/3\n",
    "\n",
    "svi_tract['nCompleted_wave0'] = svi_tract['Completed_wave0']*svi_tract['e_totpop']\n",
    "svi_tract['nCompleted_wave1'] = svi_tract['Completed_wave1']*svi_tract['e_totpop']\n",
    "svi_tract['nCompleted_wave2'] = svi_tract['Completed_wave2']*svi_tract['e_totpop']\n",
    "svi_tract['nCompleted_wave3'] = svi_tract['Completed_wave3']*svi_tract['e_totpop']"
   ]
  },
  {
   "cell_type": "code",
   "execution_count": 13,
   "id": "8962db21-91fd-43e5-82e0-a4a946c30329",
   "metadata": {
    "tags": []
   },
   "outputs": [],
   "source": [
    "merged_tract_ = pd.read_parquet(P.data + '/repres_by_merged_tract.parquet')\n",
    "merged_tract_ = merged_tract_.explode('geoids')\n",
    "merged_tract_['geoids'] = merged_tract_['geoids'].astype(np.int64)\n",
    "merged_home_agg = pd.merge(svi_tract, merged_tract_, left_on='geoid', right_on='geoids')"
   ]
  },
  {
   "cell_type": "code",
   "execution_count": 14,
   "id": "629aaa4d-5109-41b4-91f9-9a8490b2296b",
   "metadata": {
    "tags": []
   },
   "outputs": [
    {
     "name": "stderr",
     "output_type": "stream",
     "text": [
      "C:\\Users\\ALei\\AppData\\Local\\Temp\\ipykernel_2764\\1769854054.py:5: FutureWarning: The provided callable <function nansum at 0x000002487F3CA440> is currently using SeriesGroupBy.sum. In a future version of pandas, the provided callable will be used directly. To keep current behavior pass 'sum' instead.\n",
      "  merged_home_agg = merged_home_agg.groupby(['id','n_users','repres']).agg({\n",
      "C:\\Users\\ALei\\AppData\\Local\\Temp\\ipykernel_2764\\1769854054.py:5: FutureWarning: The provided callable <function nanmax at 0x000002487F3CA0E0> is currently using SeriesGroupBy.max. In a future version of pandas, the provided callable will be used directly. To keep current behavior pass 'max' instead.\n",
      "  merged_home_agg = merged_home_agg.groupby(['id','n_users','repres']).agg({\n"
     ]
    }
   ],
   "source": [
    "# drop the geoid column\n",
    "merged_home_agg = merged_home_agg.drop(columns=['geoid', 'geoids'])\n",
    "\n",
    "# Group the data by 'id','geometry','geoids','n_users','repres' and aggregate the others\n",
    "merged_home_agg = merged_home_agg.groupby(['id','n_users','repres']).agg({\n",
    "    'nCases_wave0': np.nansum,\n",
    "    'nCases_wave1': np.nansum,\n",
    "    'nCases_wave2': np.nansum,\n",
    "    'nCases_wave3': np.nansum,\n",
    "    'Positive_wave0': np.nanmax,\n",
    "    'Positive_wave1': np.nanmax,\n",
    "    'Positive_wave2': np.nanmax,\n",
    "    'Positive_wave3': np.nanmax,\n",
    "    'nCompleted_wave0': np.nansum,\n",
    "    'nCompleted_wave1': np.nansum,\n",
    "    'nCompleted_wave2': np.nansum,\n",
    "    'nCompleted_wave3': np.nansum,\n",
    "    'e_totpop_y':np.nanmax,\n",
    "    'e_totpop_x':np.nansum\n",
    "}).reset_index()"
   ]
  },
  {
   "cell_type": "code",
   "execution_count": 15,
   "id": "bc2b9fd8",
   "metadata": {},
   "outputs": [
    {
     "name": "stdout",
     "output_type": "stream",
     "text": [
      "2820773\n"
     ]
    }
   ],
   "source": [
    "print(np.sum(merged_home_agg['e_totpop_x']))"
   ]
  },
  {
   "cell_type": "code",
   "execution_count": 16,
   "id": "9a6017c2",
   "metadata": {},
   "outputs": [
    {
     "name": "stdout",
     "output_type": "stream",
     "text": [
      "2820773\n"
     ]
    }
   ],
   "source": [
    "print(np.sum(merged_home_agg['e_totpop_y']))"
   ]
  },
  {
   "cell_type": "code",
   "execution_count": 17,
   "id": "e5fb12d4-443e-4984-a9cb-f0192d890b62",
   "metadata": {
    "tags": []
   },
   "outputs": [],
   "source": [
    "merged_home_agg['Completed_wave0'] = merged_home_agg['nCompleted_wave0']/merged_home_agg['e_totpop_x']\n",
    "merged_home_agg['Completed_wave1'] = merged_home_agg['nCompleted_wave1']/merged_home_agg['e_totpop_x']\n",
    "merged_home_agg['Completed_wave2'] = merged_home_agg['nCompleted_wave2']/merged_home_agg['e_totpop_x']\n",
    "merged_home_agg['Completed_wave3'] = merged_home_agg['nCompleted_wave3']/merged_home_agg['e_totpop_x']\n",
    "\n",
    "merged_home_agg['Cases_wave0'] = merged_home_agg['nCases_wave0']/merged_home_agg['e_totpop_x']*100\n",
    "merged_home_agg['Cases_wave1'] = merged_home_agg['nCases_wave1']/merged_home_agg['e_totpop_x']*100\n",
    "merged_home_agg['Cases_wave2'] = merged_home_agg['nCases_wave2']/merged_home_agg['e_totpop_x']*100\n",
    "merged_home_agg['Cases_wave3'] = merged_home_agg['nCases_wave3']/merged_home_agg['e_totpop_x']*100"
   ]
  },
  {
   "cell_type": "code",
   "execution_count": 18,
   "id": "b410da9d-2ae2-4b50-a419-1884529d24fc",
   "metadata": {
    "tags": []
   },
   "outputs": [],
   "source": [
    "merged_home_agg = merged_home_agg.drop(columns=['nCompleted_wave0', 'nCompleted_wave1', 'nCompleted_wave2', 'nCompleted_wave3',\\\n",
    "                                                'nCases_wave0', 'nCases_wave1', 'nCases_wave2', 'nCases_wave3'])"
   ]
  },
  {
   "cell_type": "code",
   "execution_count": 19,
   "id": "7a3fc7c3-13ee-4685-a13d-f25761143062",
   "metadata": {
    "tags": []
   },
   "outputs": [],
   "source": [
    "df_input = pd.merge(df_input, merged_home_agg, on='id', how = 'left')"
   ]
  },
  {
   "cell_type": "markdown",
   "id": "819405c6-7601-4ef7-b04b-6d57636fe32d",
   "metadata": {},
   "source": [
    "# Distance to hurricane"
   ]
  },
  {
   "cell_type": "code",
   "execution_count": 20,
   "id": "539fe96c",
   "metadata": {},
   "outputs": [],
   "source": [
    "from shapely.geometry import Point, LineString\n",
    "\n",
    "# define a function to calculate the distance from a point to a line segment\n",
    "def point_to_line_distance(point, line_start, line_end):\n",
    "    line = LineString([line_start, line_end])\n",
    "    return point.distance(line)"
   ]
  },
  {
   "cell_type": "code",
   "execution_count": 21,
   "id": "bedd72d3-43fc-4279-8388-f1751022728e",
   "metadata": {
    "tags": []
   },
   "outputs": [],
   "source": [
    "merged_tract = gpd.read_file(P.data + \"/map/merged_tract.gpkg\")\n",
    "ida_path = gpd.read_file(P.data+\"/hurricane/ida_path/points/AL092021_pts.shp\")\n",
    "nicho_path = gpd.read_file(P.data+\"/hurricane/nicho_path/AL142021_pts.shp\")\n",
    "south_border = gpd.read_file(P.data+\"/map/south_border.gpkg\")\n",
    "\n",
    "wgs84 = pyproj.CRS('EPSG:4326')  # geographic coordinates (longitude, latitude)\n",
    "utm = pyproj.CRS('EPSG:3857') \n",
    "\n",
    "df_a_utm = merged_tract.to_crs(utm)\n",
    "df_b_utm = ida_path.to_crs(utm)\n",
    "df_c_utm = nicho_path.to_crs(utm)\n",
    "df_d_utm = south_border.to_crs(utm)\n",
    "\n",
    "# calculate distance matrix between all pairs of points in df_a and df_b， improve this\n",
    "distances, distances2, distances3 = [], [], []\n",
    "for i in range(len(df_a_utm)):\n",
    "    res1 = 1e7\n",
    "    for j in range(len(df_b_utm)-1):\n",
    "      # the ith point in df_a to the line segment between the jth and (j+1)th points in df_b\n",
    "      line_start = df_b_utm.geometry.iloc[j]\n",
    "      line_end = df_b_utm.geometry.iloc[j+1]\n",
    "      tmp = point_to_line_distance(df_a_utm.geometry.iloc[i], line_start, line_end)\n",
    "      if tmp < res1:\n",
    "          res1 = tmp\n",
    "\n",
    "    distances.append(res1)\n",
    "\n",
    "    res2 = 1e7\n",
    "    for j in range(len(df_c_utm)-1):\n",
    "      # the ith point in df_a to the line segment between the jth and (j+1)th points in df_b\n",
    "      line_start = df_c_utm.geometry.iloc[j]\n",
    "      line_end = df_c_utm.geometry.iloc[j+1]\n",
    "      tmp = point_to_line_distance(df_a_utm.geometry.iloc[i], line_start, line_end)\n",
    "      if tmp < res2:\n",
    "            res2 = tmp\n",
    "        \n",
    "    distances2.append(res2)\n",
    "\n",
    "    res3 = 1e7\n",
    "    for j in range(len(df_d_utm)-1):\n",
    "      # the ith point in df_a to the line segment between the jth and (j+1)th points in df_b\n",
    "      line_start = df_d_utm.geometry.iloc[j]\n",
    "      line_end = df_d_utm.geometry.iloc[j+1]\n",
    "      tmp = point_to_line_distance(df_a_utm.geometry.iloc[i], line_start, line_end)\n",
    "      if tmp < res3:\n",
    "            res3 = tmp\n",
    "    distances3.append(res3)\n",
    "\n",
    "# find minimum distance for each point in df_a\n",
    "min_distances = np.array(distances)\n",
    "min_distances2 = np.array(distances2)\n",
    "min_distances3 = np.array(distances3)\n",
    "\n",
    "# add the list of minimum distances to dataframe A as a new column, to miles\n",
    "merged_tract['dist_to_Ida'] = min_distances/1609.344\n",
    "merged_tract['dist_to_Nicholas'] = min_distances2/1609.344\n",
    "merged_tract['dist_to_south_bound'] = min_distances3/1609.344"
   ]
  },
  {
   "cell_type": "markdown",
   "id": "bf8fbecb-2c90-4dbb-8d35-c9c9c88f87a7",
   "metadata": {},
   "source": [
    "# Social-demographical data"
   ]
  },
  {
   "cell_type": "code",
   "execution_count": 22,
   "id": "df6fb26a-a601-4de4-b04a-dfd01450833e",
   "metadata": {},
   "outputs": [],
   "source": [
    "merged_tract_ = pd.read_parquet(P.data + '/repres_by_merged_tract.parquet')\n",
    "merged_tract_ = merged_tract_.explode('geoids')"
   ]
  },
  {
   "cell_type": "code",
   "execution_count": 23,
   "metadata": {},
   "outputs": [],
   "source": [
    "svi_tract = pd.read_csv(P.data + '/map/Louisiana.csv')\n",
    "svi_tract['geoid'] = svi_tract['FIPS'].astype(np.int64)\n",
    "svi_tract.columns = [column.lower() for column in svi_tract.columns]"
   ]
  },
  {
   "cell_type": "code",
   "execution_count": 24,
   "metadata": {},
   "outputs": [],
   "source": [
    "urban = pd.read_csv(P.data+\"/map/la_bgs_by_urbanity.csv\")"
   ]
  },
  {
   "cell_type": "code",
   "execution_count": 25,
   "metadata": {},
   "outputs": [],
   "source": [
    "# pick the first 11 digits\n",
    "urban['geoid'] = urban['geoid'].astype(str).str[:11].astype(np.int64)\n",
    "\n",
    "# group by geoid, when all urban is false, set urban to false, when all urban is true, set urban to true, when some urban is false, some is true, set urban to false\n",
    "urban = urban.groupby('geoid').agg({'urban': all}).reset_index()"
   ]
  },
  {
   "cell_type": "code",
   "execution_count": 26,
   "metadata": {},
   "outputs": [],
   "source": [
    "# svi_tract = gpd.read_file(P.data + '/map/svi_tract.gpkg')\n",
    "# svi_tract['geoid'] = svi_tract['geoid'].astype(np.int64)\n",
    "merged_tract_['geoids'] = merged_tract_['geoids'].astype(np.int64)\n",
    "merged_home_agg = pd.merge(merged_tract_, svi_tract, left_on='geoids', right_on='geoid')"
   ]
  },
  {
   "cell_type": "code",
   "execution_count": 27,
   "metadata": {},
   "outputs": [],
   "source": [
    "merged_home_agg = pd.merge(merged_home_agg, urban, on='geoid', how = 'left')"
   ]
  },
  {
   "cell_type": "code",
   "execution_count": 28,
   "id": "42dd9cf3-e190-43a4-aa06-f9a0f986988e",
   "metadata": {
    "tags": []
   },
   "outputs": [],
   "source": [
    "# merged_home_agg['evac_zone'].fillna(False, inplace=True)"
   ]
  },
  {
   "cell_type": "code",
   "execution_count": 29,
   "id": "6d4db7e5-124c-48b4-84aa-b075876c8916",
   "metadata": {
    "tags": []
   },
   "outputs": [
    {
     "name": "stderr",
     "output_type": "stream",
     "text": [
      "C:\\Users\\ALei\\AppData\\Local\\Temp\\ipykernel_2764\\1770221573.py:5: FutureWarning: The provided callable <function nansum at 0x000002487F3CA440> is currently using SeriesGroupBy.sum. In a future version of pandas, the provided callable will be used directly. To keep current behavior pass 'sum' instead.\n",
      "  merged_home_agg = merged_home_agg.groupby(['id','n_users','repres']).agg({\n",
      "C:\\Users\\ALei\\AppData\\Local\\Temp\\ipykernel_2764\\1770221573.py:5: FutureWarning: The provided callable <function all at 0x000002487F29C3A0> is currently using SeriesGroupBy.all. In a future version of pandas, the provided callable will be used directly. To keep current behavior pass 'all' instead.\n",
      "  merged_home_agg = merged_home_agg.groupby(['id','n_users','repres']).agg({\n"
     ]
    }
   ],
   "source": [
    "# drop the geoid column\n",
    "merged_home_agg = merged_home_agg.drop(columns=['geoid', 'geoids'])\n",
    "\n",
    "# Group the data by 'id','geometry','geoids','n_users','repres' and aggregate the others\n",
    "merged_home_agg = merged_home_agg.groupby(['id','n_users','repres']).agg({\n",
    "    'e_totpop_y': np.nansum,\n",
    "    'e_hu': np.nansum,\n",
    "    'area_sqmi': np.nansum,\n",
    "    'e_age17': np.nansum,\n",
    "    'e_age65': np.nansum,\n",
    "    'e_hisp': np.nansum,\n",
    "    'e_afam': np.nansum,\n",
    "    'e_asian': np.nansum,\n",
    "    'e_nohsdp':np.nansum,\n",
    "    'e_unemp': np.nansum,\n",
    "    'e_pov150': np.nansum,\n",
    "    'e_noveh': np.nansum,\n",
    "    'e_uninsur': np.nansum,\n",
    "    'e_disabl': np.nansum,\n",
    "    'urban': np.all,\n",
    "}).reset_index()"
   ]
  },
  {
   "cell_type": "code",
   "execution_count": 30,
   "metadata": {},
   "outputs": [],
   "source": [
    "merged_home_agg['e_totpop']= merged_home_agg['e_totpop_y']\n",
    "\n",
    "merged_home_agg['pop_density'] = merged_home_agg['e_totpop']/merged_home_agg['area_sqmi']\n",
    "\n",
    "merged_home_agg['urban']= merged_home_agg['urban'] & (merged_home_agg['pop_density'] > 1000)"
   ]
  },
  {
   "cell_type": "code",
   "execution_count": 31,
   "id": "f23c4f5f-6115-4fa9-ad9f-c2d5c73de2d9",
   "metadata": {
    "tags": []
   },
   "outputs": [],
   "source": [
    "merged_home_agg['ep_age17'] = merged_home_agg['e_age17']/merged_home_agg['e_totpop'] * 100\n",
    "merged_home_agg['ep_age65'] = merged_home_agg['e_age65']/merged_home_agg['e_totpop'] * 100\n",
    "merged_home_agg['ep_hisp'] = merged_home_agg['e_hisp']/merged_home_agg['e_totpop'] * 100\n",
    "merged_home_agg['ep_afam'] = merged_home_agg['e_afam']/merged_home_agg['e_totpop'] * 100\n",
    "merged_home_agg['ep_asian'] = merged_home_agg['e_asian']/merged_home_agg['e_totpop'] * 100\n",
    "merged_home_agg['ep_nohsdp'] = merged_home_agg['e_nohsdp']/merged_home_agg['e_totpop'] * 100\n",
    "merged_home_agg['ep_unemp'] = merged_home_agg['e_unemp']/(merged_home_agg['e_totpop']- merged_home_agg['e_age17']) * 100\n",
    "merged_home_agg['ep_pov150'] = merged_home_agg['e_pov150']/merged_home_agg['e_totpop'] * 100\n",
    "merged_home_agg['ep_noveh'] = merged_home_agg['e_noveh']/merged_home_agg['e_hu'] * 100\n",
    "merged_home_agg['ep_uninsur'] = merged_home_agg['e_uninsur']/merged_home_agg['e_totpop'] * 100\n",
    "merged_home_agg['ep_disabl'] = merged_home_agg['e_disabl']/merged_home_agg['e_totpop'] * 100"
   ]
  },
  {
   "cell_type": "code",
   "execution_count": 32,
   "id": "338dce2b-dc18-4fad-b154-44782f4b6981",
   "metadata": {
    "tags": []
   },
   "outputs": [],
   "source": [
    "merged_home_agg = merged_home_agg[['id', 'area_sqmi', 'ep_age17','ep_age65', 'ep_hisp', 'ep_afam', 'ep_asian',  'ep_nohsdp', 'ep_unemp', 'ep_pov150', 'ep_noveh', 'ep_uninsur', 'ep_disabl', 'urban', 'e_totpop']].reset_index(drop = True)"
   ]
  },
  {
   "cell_type": "code",
   "execution_count": 33,
   "id": "122360cf-3737-4f8f-9026-be7887718ca4",
   "metadata": {
    "tags": []
   },
   "outputs": [],
   "source": [
    "df_input = pd.merge(df_input, merged_home_agg, on='id', how = 'left')"
   ]
  },
  {
   "cell_type": "code",
   "execution_count": 34,
   "id": "9c3760d7-4d6b-44d1-9cd1-65a90dc14e61",
   "metadata": {},
   "outputs": [],
   "source": [
    "df_input = pd.merge(merged_tract, df_input, on='id')"
   ]
  },
  {
   "cell_type": "markdown",
   "id": "001891b7-72a1-400b-8570-a114d27e9e21",
   "metadata": {},
   "source": [
    "Verify the merged_tract and repres is matched."
   ]
  },
  {
   "cell_type": "code",
   "execution_count": 35,
   "id": "4387b17c",
   "metadata": {},
   "outputs": [
    {
     "data": {
      "text/plain": [
       "2820773"
      ]
     },
     "execution_count": 35,
     "metadata": {},
     "output_type": "execute_result"
    }
   ],
   "source": [
    "np.sum(merged_home_agg['e_totpop'])"
   ]
  },
  {
   "cell_type": "code",
   "execution_count": 36,
   "id": "0cdd968d-bbaf-4ebf-a6ad-0d21eac6bfee",
   "metadata": {
    "tags": []
   },
   "outputs": [
    {
     "data": {
      "text/plain": [
       "<Axes: >"
      ]
     },
     "execution_count": 36,
     "metadata": {},
     "output_type": "execute_result"
    },
    {
     "data": {
      "image/png": "[encoded data removed]",
      "text/plain": [
       "<Figure size 640x480 with 1 Axes>"
      ]
     },
     "metadata": {},
     "output_type": "display_data"
    }
   ],
   "source": [
    "df_input[df_input['urban']].plot()"
   ]
  },
  {
   "cell_type": "code",
   "execution_count": 40,
   "id": "fc3bf497-eb2f-4eb8-ab6b-15ae726631f9",
   "metadata": {
    "tags": []
   },
   "outputs": [],
   "source": [
    "df_input.drop(columns = ['geometry'], inplace = True)\n",
    "df_input.to_parquet(P.data+\"/df_input_merged.parquet\")"
   ]
  }
 ],
 "metadata": {
  "kernelspec": {
   "display_name": "Python 3 (ipykernel)",
   "language": "python",
   "name": "python3"
  },
  "language_info": {
   "codemirror_mode": {
    "name": "ipython",
    "version": 3
   },
   "file_extension": ".py",
   "mimetype": "text/x-python",
   "name": "python",
   "nbconvert_exporter": "python",
   "pygments_lexer": "ipython3",
   "version": "3.10.12"
  }
 },
 "nbformat": 4,
 "nbformat_minor": 5
}
